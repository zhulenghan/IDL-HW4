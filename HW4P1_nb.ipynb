{
  "cells": [
    {
      "cell_type": "markdown",
      "metadata": {
        "id": "l3ytyXW-7Q6o"
      },
      "source": [
        "# Setup\n",
        "-  Follow the setup instructions based on your preferred environment!"
      ]
    },
    {
      "cell_type": "markdown",
      "metadata": {
        "id": "QeJDFDo87Q6s"
      },
      "source": [
        "## Local"
      ]
    },
    {
      "cell_type": "markdown",
      "metadata": {},
      "source": [
        "One of our key goals in designing this assignment is to allow you to complete most of the preliminary implementation work locally.  \n",
        "We highly recommend that you **pass all tests locally** using the provided `hw4_data_subset` before moving to a GPU runtime.  \n",
        "To do this, simply:\n",
        "\n",
        "### Create a new conda environment\n",
        "```bash\n",
        "# Be sure to deactivate any active environments first\n",
        "conda create -n hw4 python=3.12.4\n",
        "```\n",
        "\n",
        "### Activate the conda environment\n",
        "```bash\n",
        "conda activate hw4\n",
        "```\n",
        "\n",
        "### Install the dependencies using the provided `requirements.txt`\n",
        "```bash\n",
        "pip install --no-cache-dir --ignore-installed -r requirements.txt\n",
        "```\n",
        "\n",
        "### Ensure that your notebook is in the same working directory as the `Handout`\n",
        "This can be achieved by:\n",
        "1. Physically moving the notebook into the handout directory.\n",
        "2. Changing the notebook’s current working directory to the handout directory using the os.chdir() function.\n",
        "\n",
        "### Open the notebook and select the newly created environment from the kernel selector.\n",
        "\n",
        "If everything was done correctly, You should see atleast the following files in your current working directory after running `!ls`:\n",
        "```\n",
        ".\n",
        "├── README.md\n",
        "├── requirements.txt\n",
        "├── hw4lib/\n",
        "├── mytorch/\n",
        "├── tests/\n",
        "└── hw4_data_subset/\n",
        "```"
      ]
    },
    {
      "cell_type": "markdown",
      "metadata": {
        "id": "tub92oPW7Q6t"
      },
      "source": [
        "## Colab"
      ]
    },
    {
      "cell_type": "markdown",
      "metadata": {
        "id": "N5qfxCxq7l-f"
      },
      "source": [
        "### Step 1: Get your handout\n",
        "- See writeup for recommended approaches."
      ]
    },
    {
      "cell_type": "markdown",
      "metadata": {
        "id": "V0wRO-k-7Q6u"
      },
      "source": [
        "# Example: My preferred approach\n",
        "import os\n",
        "# Settings -> Developer Settings -> Personal Access Tokens -> Token (classic)\n",
        "os.environ['GITHUB_TOKEN'] = \"your_token_here\"\n",
        "\n",
        "GITHUB_USERNAME = \"your_username_here\"\n",
        "REPO_NAME       = \"your_repo_name_here\"\n",
        "TOKEN = os.environ.get(\"GITHUB_TOKEN\")\n",
        "repo_url        = f\"https://{TOKEN}@github.com/{GITHUB_USERNAME}/{REPO_NAME}.git\"\n",
        "!git clone {repo_url}"
      ]
    },
    {
      "cell_type": "markdown",
      "metadata": {
        "id": "KmxMiKjIYv2_"
      },
      "source": [
        "# To pull latest changes (Must be in the repo dir, use pwd/ls to verify)\n",
        "!cd {REPO_NAME} && git pull"
      ]
    },
    {
      "cell_type": "markdown",
      "metadata": {
        "id": "IfOQStjw7Q6w"
      },
      "source": [
        "### Step 2: Install Dependencies\n",
        "- `NOTE`: Your runtime will be restarted to ensure all dependencies are updated.\n",
        "- `NOTE`: You will see a runtime crashed message, this was intentionally done. Simply move on to the next cell."
      ]
    },
    {
      "cell_type": "markdown",
      "metadata": {
        "collapsed": true,
        "id": "maupv9q17Q6w"
      },
      "source": [
        "%pip install --no-deps -r IDL-HW4/requirements.txt\n",
        "import os\n",
        "os.kill(os.getpid(), 9) # NOTE: This will restart the your colab Python runtime (required)!"
      ]
    },
    {
      "cell_type": "markdown",
      "metadata": {
        "id": "0Yj32DflNHuI"
      },
      "source": [
        "### Step 3: Obtain Data\n",
        "\n",
        "- `NOTE`: This process will automatically download and unzip data for both `HW4P1` and `HW4P2`.  \n"
      ]
    },
    {
      "cell_type": "markdown",
      "metadata": {
        "id": "KeP-XgwYA_M3"
      },
      "source": [
        "!curl -L -o /content/s25-hw4-data.zip https://www.kaggle.com/api/v1/datasets/download/cmu11785/s25-hw4-data\n",
        "!unzip -q -o /content/s25-hw4-data.zip -d /content/hw4_data\n",
        "!rm -rf /content/s25-hw4-data.zip\n",
        "!du -h --max-depth=2 /content/hw4_data"
      ]
    },
    {
      "cell_type": "markdown",
      "metadata": {
        "id": "p2YwJ0hy7Q6x"
      },
      "source": [
        "### Step 4: Move to Handout Directory\n",
        "You must be within the handout directory for the library imports to work!\n",
        "\n",
        "- `NOTE`: You may have to repeat running this command anytime you restart your runtime.\n",
        "- `NOTE`: You can do a `pwd` to check if you are in the right directory.\n",
        "- `NOTE`: The way it is setup currently, Your data directory should be one level up from your project directory. Keep this in mind when you are setting your `root` in the config file.\n",
        "\n",
        "If everything was done correctly, You should see atleast the following files in your current working directory after running `!ls`:\n",
        "```\n",
        ".\n",
        "├── README.md\n",
        "├── requirements.txt\n",
        "├── hw4lib/\n",
        "├── mytorch/\n",
        "├── tests/\n",
        "└── hw4_data_subset/\n",
        "\n",
        "```"
      ]
    },
    {
      "cell_type": "markdown",
      "metadata": {
        "id": "fzYdDIxw7Q6x"
      },
      "source": [
        "import os\n",
        "os.chdir('IDL-HW4')\n",
        "!ls"
      ]
    },
    {
      "cell_type": "markdown",
      "metadata": {},
      "source": [
        "## Kaggle"
      ]
    },
    {
      "cell_type": "markdown",
      "metadata": {},
      "source": [
        "While it is possible to run the notebook on Kaggle, we would recommend against it. This assignment is more resource intensive and may run slower on Kaggle. "
      ]
    },
    {
      "cell_type": "markdown",
      "metadata": {},
      "source": [
        "### Step 1: Get your handout\n",
        "- See writeup for recommended approaches."
      ]
    },
    {
      "cell_type": "markdown",
      "metadata": {},
      "source": [
        "# Example: My preferred approach\n",
        "import os\n",
        "# Settings -> Developer Settings -> Personal Access Tokens -> Token (classic)\n",
        "os.environ['GITHUB_TOKEN'] = \"your_token_here\"\n",
        "\n",
        "GITHUB_USERNAME = \"your_username_here\"\n",
        "REPO_NAME       = \"your_repo_name_here\"\n",
        "TOKEN = os.environ.get(\"GITHUB_TOKEN\")\n",
        "repo_url        = f\"https://{TOKEN}@github.com/{GITHUB_USERNAME}/{REPO_NAME}.git\"\n",
        "!git clone {repo_url}"
      ]
    },
    {
      "cell_type": "markdown",
      "metadata": {},
      "source": [
        "# To pull latest changes (Must be in the repo dir, use pwd/ls to verify)\n",
        "!cd {REPO_NAME} && git pull"
      ]
    },
    {
      "cell_type": "markdown",
      "metadata": {},
      "source": [
        "### Step 2: Install Dependencies\n",
        "- Simply set the `Environment` setting in the notebook to `Always use latest environment`. No need to install anything."
      ]
    },
    {
      "cell_type": "markdown",
      "metadata": {},
      "source": [
        "### Step 3: Obtain Data\n",
        "\n",
        "#### ⚠️ Important: Kaggle Users  \n",
        "If you are using Kaggle, **do not manually download the data!** The dataset is large and may exceed your available disk space. Instead, follow these steps to add the dataset directly to your notebook:\n",
        "\n",
        "1. Open your **Kaggle Notebook**.  \n",
        "2. Navigate to **Notebook → Input**.  \n",
        "3. Click **Add Input**.  \n",
        "4. In the search bar, paste the following URL:  \n",
        "   👉 [https://www.kaggle.com/datasets/cmu11785/s25-hw4-data](https://www.kaggle.com/datasets/cmu11785/s25-hw4-data)  \n",
        "5. Click the **➕ (plus sign)** to add the dataset to your notebook.  \n",
        "\n",
        "#### 📌 Note:  \n",
        "This process will automatically download and unzip data for both `HW4P1` and `HW4P2`.  \n"
      ]
    },
    {
      "cell_type": "markdown",
      "metadata": {},
      "source": [
        "### Step 4: Move to Handout Directory\n",
        "You must be within the handout directory for the library imports to work!\n",
        "\n",
        "- `NOTE`: You may have to repeat running this command anytime you restart your runtime.\n",
        "- `NOTE`: You can do a `pwd` to check if you are in the right directory.\n",
        "- `NOTE`: The way it is setup currently, Your data directory should be one level up from your project directory. Keep this in mind when you are setting your `root` in the config file.\n",
        "\n",
        "If everything was done correctly, You should see atleast the following files in your current working directory after running `!ls`:\n",
        "```\n",
        ".\n",
        "├── README.md\n",
        "├── requirements.txt\n",
        "├── hw4lib/\n",
        "├── mytorch/\n",
        "├── tests/\n",
        "└── hw4_data_subset/\n",
        "\n",
        "```"
      ]
    },
    {
      "cell_type": "markdown",
      "metadata": {},
      "source": [
        "import os\n",
        "os.chdir('IDL-HW4')\n",
        "!ls"
      ]
    },
    {
      "cell_type": "markdown",
      "metadata": {
        "id": "qQG51p6e7Q6x"
      },
      "source": [
        "## PSC"
      ]
    },
    {
      "cell_type": "markdown",
      "metadata": {},
      "source": [
        "### Step 1: Get your handout\n",
        "- See writeup for recommended approaches.\n",
        "- If you use Remote - SSH to connect to Bridges2, you can upload the handout to your project directory and work from there.\n"
      ]
    },
    {
      "cell_type": "markdown",
      "metadata": {},
      "source": [
        "# Example: My preferred approach\n",
        "import os\n",
        "# Settings -> Developer Settings -> Personal Access Tokens -> Token (classic)\n",
        "os.environ['GITHUB_TOKEN'] = \"your_token_here\"\n",
        "\n",
        "GITHUB_USERNAME = \"your_username_here\"\n",
        "REPO_NAME       = \"your_repo_name_here\"\n",
        "TOKEN = os.environ.get(\"GITHUB_TOKEN\")\n",
        "repo_url        = f\"https://{TOKEN}@github.com/{GITHUB_USERNAME}/{REPO_NAME}.git\"\n",
        "!git clone {repo_url}"
      ]
    },
    {
      "cell_type": "markdown",
      "metadata": {},
      "source": [
        "# To pull latest changes (Must be in the repo dir, use pwd/ls to verify)\n",
        "!cd {REPO_NAME} && git pull"
      ]
    },
    {
      "cell_type": "markdown",
      "metadata": {
        "id": "KM4OZo_G7Q6x"
      },
      "source": [
        "### Step 2: Setting Up Your Environment on Bridges2\n",
        "\n",
        "For this homework, we are providing a shared Conda environment for the entire class. Follow these steps to set up the environment and start a Jupyter notebook on Bridges2:"
      ]
    },
    {
      "cell_type": "markdown",
      "metadata": {},
      "source": [
        "#### 1. SSH into Bridges2\n",
        "```bash\n",
        "ssh username@bridges2.psc.edu\n",
        "```"
      ]
    },
    {
      "cell_type": "markdown",
      "metadata": {},
      "source": [
        "#### 2. Navigate to your Project Directory\n",
        "```bash\n",
        "cd $PROJECT\n",
        "```"
      ]
    },
    {
      "cell_type": "markdown",
      "metadata": {},
      "source": [
        "#### 3. Load the Anaconda Module\n",
        "```bash\n",
        "module load anaconda3\n",
        "```"
      ]
    },
    {
      "cell_type": "markdown",
      "metadata": {},
      "source": [
        "#### 4. Activate the provided HW4 Environment\n",
        "```bash\n",
        "conda deactivate # First, deactivate any existing Conda environment\n",
        "conda activate /jet/home/psamal/hw_envs/idl_hw4\n",
        "```"
      ]
    },
    {
      "cell_type": "markdown",
      "metadata": {},
      "source": [
        "#### 5. Request a Compute Node\n",
        "```bash\n",
        "interact -p GPU-shared --gres=gpu:v100-32:1 -t 8:00:00\n",
        "```"
      ]
    },
    {
      "cell_type": "markdown",
      "metadata": {},
      "source": [
        "#### 6. Re-activate Environment\n",
        "If your Conda environment was deactivated due to node allocation:\n",
        "```bash\n",
        "conda deactivate # First, deactivate any existing Conda environment\n",
        "conda activate /jet/home/psamal/hw_envs/idl_hw4\n",
        "```"
      ]
    },
    {
      "cell_type": "markdown",
      "metadata": {},
      "source": [
        "#### 7. Start Jupyter Notebook\n",
        "Launch Jupyter Notebook:\n",
        "```bash\n",
        "jupyter notebook --no-browser --ip=0.0.0.0\n",
        "```"
      ]
    },
    {
      "cell_type": "markdown",
      "metadata": {},
      "source": [
        "\n",
        "#### 8. Connect to Jupyter Server\n",
        "\n",
        "You can now use your prefered way of connecting to the Jupyter Server. Your options should be covered in the docs linked in post 558 @ piazza.\n",
        "\n",
        "The following is my preferred way of connecting to the Jupyter Server:\n",
        "\n",
        "##### 8.1 Connect in VSCode\n",
        "I prefer uploading the notebook to PSC Bridges2 storage ($PROJECT directory) and then connecting to the Jupyter Server from there.\n",
        "1. Use Remote - SSH to connect to Bridges2 and navigate to your project directory.\n",
        "2. Upload the notebook to the project directory.\n",
        "3. Open the notebook in VSCode.\n",
        "4. Go to **Kernel** → **Select Another Kernel** → **Existing Jupyter Server**\n",
        "5. Enter the URL of the Jupyter Server:```http://{hostname}:{port}/tree?token={token}```\n",
        "   - eg: `http://v011.ib.bridges2.psc.edu:8888/tree?token=e4b302434e68990f28bc2b4ae8d216eb87eecb7090526249` \n",
        "\n",
        "> **Note**: Replace `{hostname}`, `{port}` and `{token}` with your actual values from the Jupyter output."
      ]
    },
    {
      "cell_type": "markdown",
      "metadata": {},
      "source": [
        "### Step 3: Get Data\n",
        "- `NOTE`: This will download and unzip data for both `HW4P1` and `HW4P2`\n",
        "- `NOTE`: We are using `$LOCAL`: the scratch storage on local disk on the node running a job to store out data. \n",
        "  - Disk accesses are much faster than what you would get from `$PROJECT` storage\n",
        "  - `IT IS NOT PERSISTENT`\n",
        "- `NOTE`: Make sure you have completed the previous steps before running this cell.\n",
        "- Read more about it PSC File Spaces [here](https://www.psc.edu/resources/bridges-2/user-guide#file-spaces)."
      ]
    },
    {
      "cell_type": "markdown",
      "metadata": {},
      "source": [
        "!curl -L -o $LOCAL/s25-hw4-data.zip https://www.kaggle.com/api/v1/datasets/download/cmu11785/s25-hw4-data\n",
        "!unzip -q -o $LOCAL/s25-hw4-data.zip -d $LOCAL/hw4_data\n",
        "!rm -rf $LOCAL/s25-hw4-data.zip\\\n",
        "!du -h --max-depth=2 $LOCAL/hw4_data"
      ]
    },
    {
      "cell_type": "markdown",
      "metadata": {},
      "source": [
        "### Step 4: Move to Handout Directory\n",
        "Depending on the way you are running your notebook, you may or may not need to run this cell. As long as you are within the handout directory for the library imports to work!\n",
        "\n",
        "- `NOTE`: You may have to repeat running this command anytime you restart your runtime.\n",
        "- `NOTE`: You can do a `pwd` to check if you are in the right directory.\n",
        "- `NOTE`: The way it is setup currently, Your data directory should be one level up from your project directory. Keep this in mind when you are setting your `root` in the config file.\n",
        "\n",
        "If everything was done correctly, You should see atleast the following files in your current working directory after running `!ls`:\n",
        "```\n",
        ".\n",
        "├── README.md\n",
        "├── requirements.txt\n",
        "├── hw4lib/\n",
        "├── mytorch/\n",
        "├── tests/\n",
        "└── hw4_data_subset/\n",
        "\n",
        "```"
      ]
    },
    {
      "cell_type": "markdown",
      "metadata": {},
      "source": [
        "# Move to the handout directory if you are not there already\n",
        "import os\n",
        "os.chdir('IDL-HW4')\n",
        "!ls"
      ]
    },
    {
      "cell_type": "markdown",
      "metadata": {
        "id": "GhPm0t5d7Q6z"
      },
      "source": [
        "# Imports\n",
        "\n",
        "- If your setup was done correctly, you should be able to run the following cell without any issues."
      ]
    },
    {
      "cell_type": "code",
      "execution_count": 1,
      "metadata": {
        "id": "YAJF1-E87Q6z"
      },
      "outputs": [
        {
          "name": "stdout",
          "output_type": "stream",
          "text": [
            "Using device: cuda\n"
          ]
        }
      ],
      "source": [
        "from hw4lib.data import (\n",
        "    H4Tokenizer,\n",
        "    LMDataset,\n",
        "    verify_dataloader\n",
        ")\n",
        "from hw4lib.model import (\n",
        "    CausalMask,\n",
        "    PadMask,\n",
        "    PositionalEncoding,\n",
        "    DecoderOnlyTransformer\n",
        ")\n",
        "from hw4lib.utils import (\n",
        "    create_optimizer,\n",
        "    create_scheduler,\n",
        "    plot_lr_schedule\n",
        ")\n",
        "from hw4lib.trainers import (\n",
        "    LMTrainer,\n",
        ")\n",
        "from torch.utils.data import DataLoader\n",
        "import matplotlib.pyplot as plt\n",
        "import yaml\n",
        "import gc\n",
        "import torch\n",
        "from torchinfo import summary\n",
        "import os\n",
        "import json\n",
        "import tarfile\n",
        "import shutil\n",
        "import wandb\n",
        "import yaml\n",
        "device = \"cuda\" if torch.cuda.is_available() else \"cpu\"\n",
        "print(f\"Using device: {device}\")"
      ]
    },
    {
      "cell_type": "markdown",
      "metadata": {
        "id": "1Q4Ccp-M7Q60"
      },
      "source": [
        "# Implementations\n",
        "\n",
        "- `NOTE`: All of these implementations have detailed specification, implementation details, and hints in their respective source files. Make sure to read all of them in their entirety to understand the implementation details!"
      ]
    },
    {
      "cell_type": "markdown",
      "metadata": {
        "id": "4vqefJri7Q60"
      },
      "source": [
        "## MyTorch Implementations\n",
        "- Modify your `Linear` implementation from HW1P1 to support arbitrary number of dimensions in `mytorch/nn/linear.py`.\n",
        "- Modify your `Softmax` implementation from HW1P1 to support arbitrary number of dimensions in `mytorch/nn/activation.py`.\n",
        "- Implement the `ScaledDotProductAttention` class in `mytorch/nn/scaled_dot_product_attention.py`.\n",
        "- Implement the `MultiHeadAttention` class in `mytorch/nn/multi_head_attention.py`.\n",
        "- Run the cell below to check your implementations.\n"
      ]
    },
    {
      "cell_type": "markdown",
      "metadata": {
        "id": "2hxzUzzW7Q60"
      },
      "source": [
        "!python -m tests.test_mytorch"
      ]
    },
    {
      "cell_type": "markdown",
      "metadata": {
        "id": "_8hb5VAN7Q60"
      },
      "source": [
        "## Dataset Implementation\n",
        "- Familiarize yourself with the `tokenize`, `encode`, and `decode` methods of the `H4Tokenizer` class in `hw4lib/data/tokenizer.py`. You will need to make use of these methods in both `HW4P1` and `HW4P2` both in the dataset implementations and during decoding.\n",
        "- Implement the `LMDataset` class in `hw4lib/data/lm_dataset.py`.\n",
        "    - You will have to implement parts of `__init__` and completely implement the `__len__`, `__getitem__` and `collate_fn` methods.\n",
        "- Run the cell below to check your implementation.\n"
      ]
    },
    {
      "cell_type": "markdown",
      "metadata": {
        "id": "D1oCYvlJ7Q60"
      },
      "source": [
        "!python -m tests.test_dataset_lm"
      ]
    },
    {
      "cell_type": "markdown",
      "metadata": {
        "id": "p6R08H787Q60"
      },
      "source": [
        "## Model Implementations\n",
        "#### Overview:\n",
        "- Implement the `CausalMask` and `PadMask` functions in `hw4lib/modules/masks.py` to handle masking.\n",
        "- Implement the `PositionalEncoding` class in `hw4lib/model/positional_encoding.py` to handle positional encoding.\n",
        "- Implement the Transformer Sublayers: `SelfAttentionLayer` and `FeedForwardLayer` classes in `hw4lib/model/sublayers.py`.\n",
        "- Implement the Transformer Layer: `SelfAttentionDecoderLayer` class in `hw4lib/model/decoder_layers.py`.\n",
        "- Implement the `DecoderOnlyTransformer` class in `hw4lib/model/transformers.py`.\n",
        "- Run the cells below to check your implementation.\n",
        "- `NOTE`: Besides the `DecoderOnlyTransformer` (P1 mandatory, P2 optional), you will use all of the above implementations in both `HW4P1` and `HW4P2`!"
      ]
    },
    {
      "cell_type": "markdown",
      "metadata": {
        "id": "b6m-85zB7Q61"
      },
      "source": [
        "### Masks\n",
        "- Implement the `PadMask` and `CausalMask` functions in `hw4lib/modules/masks.py`.\n",
        "- Run the cell below to check your implementation.\n",
        "- You will need to make use of these masks in both `HW4P1` and `HW4P2`."
      ]
    },
    {
      "cell_type": "markdown",
      "metadata": {
        "id": "Di88pr8J7Q61"
      },
      "source": [
        "#### Causal Mask"
      ]
    },
    {
      "cell_type": "markdown",
      "metadata": {
        "id": "mAHwBO7m7Q61"
      },
      "source": [
        "!python -m tests.test_mask_causal"
      ]
    },
    {
      "cell_type": "markdown",
      "metadata": {
        "id": "gCPEtI8X7Q61"
      },
      "source": [
        "#### Padding Mask"
      ]
    },
    {
      "cell_type": "markdown",
      "metadata": {
        "id": "UiZusS-H7Q62"
      },
      "source": [
        "!python -m tests.test_mask_padding"
      ]
    },
    {
      "cell_type": "markdown",
      "metadata": {
        "id": "W1ZeV5XM7Q62"
      },
      "source": [
        "#### Optional: Visualize your Masks"
      ]
    },
    {
      "cell_type": "markdown",
      "metadata": {
        "id": "9UqY1xD_7Q62"
      },
      "source": [
        "# Dummy data\n",
        "_d_model   = 64\n",
        "_x         = torch.zeros(4, 20, _d_model)\n",
        "_x_len     = torch.tensor([5, 15, 10, 20])\n",
        "_x_causal  = CausalMask(_x)\n",
        "_x_padding = PadMask(_x, _x_len)\n",
        "\n",
        "# Create figure with two subplots side by side\n",
        "fig, mask_axs = plt.subplots(1, 2, figsize=(12, 4))\n",
        "\n",
        "# Plot masks\n",
        "masks_and_titles = [\n",
        "    (_x_padding, \"Padding Mask\"),\n",
        "    (_x_causal, \"Causal Mask\")\n",
        "]\n",
        "\n",
        "# Plot each mask\n",
        "images = []\n",
        "for i, (mask, title) in enumerate(masks_and_titles):\n",
        "    im = mask_axs[i].imshow(mask, cmap=\"gray\", aspect='auto')\n",
        "    mask_axs[i].set_title(title, fontsize=8)\n",
        "    images.append(im)\n",
        "\n",
        "# Add colorbar at the bottom\n",
        "fig.subplots_adjust(bottom=0.2)  # Make space for colorbar\n",
        "cbar_ax = fig.add_axes([0.15, 0.1, 0.7, 0.02])  # [left, bottom, width, height]\n",
        "cbar = plt.colorbar(images[0], cax=cbar_ax, orientation='horizontal')\n",
        "cbar.ax.set_xlabel('Mask Values', labelpad=5, fontsize=8)\n",
        "cbar.set_ticks([0, 1])\n",
        "cbar.set_ticklabels(['Attend (0)', 'Ignore/Mask (1)'])\n",
        "cbar.ax.tick_params(labelsize=6)\n",
        "\n",
        "plt.show()"
      ]
    },
    {
      "cell_type": "markdown",
      "metadata": {
        "id": "dlkN0B1H7Q63"
      },
      "source": [
        "### Positional Encoding\n",
        "- Implement the `PositionalEncoding` class in `hw4lib/model/positional_encoding.py`.\n",
        "- Run the cell below to check your implementation.\n",
        "- You will need to make use of this positional encoding in both `HW4P1` and `HW4P2`."
      ]
    },
    {
      "cell_type": "markdown",
      "metadata": {
        "id": "LTO-EMdY7Q63"
      },
      "source": [
        "!python -m tests.test_positional_encoding"
      ]
    },
    {
      "cell_type": "markdown",
      "metadata": {
        "id": "ehZGbq5G7Q64"
      },
      "source": [
        "#### Optional: Visualize your Positional Encoding"
      ]
    },
    {
      "cell_type": "markdown",
      "metadata": {
        "id": "5cgKYbz47Q64"
      },
      "source": [
        "# Create sample positional encoding\n",
        "d_model = 64\n",
        "max_len = 100\n",
        "pos_encoding = PositionalEncoding(d_model=d_model, max_len=max_len)\n",
        "pe = pos_encoding.pe.squeeze(0).numpy()  # Remove batch dimension and convert to numpy\n",
        "\n",
        "# Create figure with two subplots side by side\n",
        "fig, (ax1, ax2) = plt.subplots(1, 2, figsize=(12, 4))\n",
        "\n",
        "# Plot 1: Positional encoding matrix\n",
        "im = ax1.imshow(pe, aspect='auto', cmap='RdBu',\n",
        "                extent=[0, d_model, max_len, 0])  # Flip y-axis to show position top-to-bottom\n",
        "plt.colorbar(im, ax=ax1, label='Encoding Value')\n",
        "ax1.set_xlabel('Dimension')\n",
        "ax1.set_ylabel('Position')\n",
        "ax1.set_title('Positional Encoding Matrix')\n",
        "ax1.grid(False)\n",
        "\n",
        "# Plot 2: Sinusoidal patterns\n",
        "dimensions = [0, 15, 31, 47, 63]  # Plot first few dimensions\n",
        "for dim in dimensions:\n",
        "    ax2.plot(pe[:, dim], label=f'dim {dim}')\n",
        "ax2.set_xlabel('Position')\n",
        "ax2.set_ylabel('Encoding Value')\n",
        "ax2.set_title('Sinusoidal Patterns for Different Dimensions')\n",
        "ax2.legend()\n",
        "ax2.grid(True)\n",
        "\n",
        "# Adjust layout to prevent overlap\n",
        "plt.tight_layout()\n",
        "plt.show()"
      ]
    },
    {
      "cell_type": "markdown",
      "metadata": {
        "id": "XSAUWGco7Q64"
      },
      "source": [
        "### Transformer Sublayers\n",
        "- Implement the Transformer Sublayers: `SelfAttentionLayer`, and `FeedForwardLayer` classes in `hw4lib/model/sublayers.py`.\n",
        "- Run the cell below to check your implementation.\n",
        "- You will need to make use of all of these sublayers in both `HW4P1` and `HW4P2`."
      ]
    },
    {
      "cell_type": "markdown",
      "metadata": {
        "id": "4auGdGYy7Q64"
      },
      "source": [
        "!python -m tests.test_sublayer_selfattention"
      ]
    },
    {
      "cell_type": "markdown",
      "metadata": {
        "id": "DIy1d8757Q64"
      },
      "source": [
        "!python -m tests.test_sublayer_feedforward"
      ]
    },
    {
      "cell_type": "markdown",
      "metadata": {
        "id": "hfGn7MqL7Q65"
      },
      "source": [
        "### Transformer Self-Attention Decoder Layer\n",
        "- Implement the Transformer Layer: `SelfAttentionDecoderLayer` class in `hw4lib/model/decoder_layers.py`.\n",
        "- Run the cell below to check your implementation.\n",
        "- You will need to make use of this sublayer in `HW4P2`."
      ]
    },
    {
      "cell_type": "markdown",
      "metadata": {
        "id": "S8p-8Uff7Q65"
      },
      "source": [
        "!python -m tests.test_decoderlayer_selfattention"
      ]
    },
    {
      "cell_type": "markdown",
      "metadata": {
        "id": "e0NW07hn7Q65"
      },
      "source": [
        "### Decoder-Only Transformer\n",
        "\n",
        "- Implement the `DecoderOnlyTransformer` class in `hw4lib/model/transformers.py`.\n",
        "- Run the cell below to check your implementation.\n",
        "- You will need to make use of in `HW4P1` and optionally `HW4P2`."
      ]
    },
    {
      "cell_type": "markdown",
      "metadata": {
        "id": "6Z1SU9b97Q65"
      },
      "source": [
        "!python -m tests.test_transformer_decoder_only"
      ]
    },
    {
      "cell_type": "markdown",
      "metadata": {
        "id": "zSGdoo9J7Q65"
      },
      "source": [
        "## Decoding Implementation\n",
        "- Implement the `generate_greedy` method of the `SequenceGenerator` class in `hw4lib/decoding/sequence_generator.py`.\n",
        "- Run the cell below to check your implementation."
      ]
    },
    {
      "cell_type": "markdown",
      "metadata": {
        "id": "Ks5wXPYS7Q65"
      },
      "source": [
        "!python -m tests.test_decoding --mode greedy"
      ]
    },
    {
      "cell_type": "markdown",
      "metadata": {},
      "source": [
        "## Trainer Implementation\n",
        "You will have to do some minor in-filling for the `LMTrainer` class in `hw4lib/trainers/lm_trainer.py` before you can use it.\n",
        "- Fill in the `TODO`s in the `__init__`.\n",
        "- Fill in the `TODO`s in the `_train_epoch`.\n",
        "- Fill in the `TODO`s in the `_validate_epoch`.\n",
        "- Fill in the `TODO`s in the `generate` method.\n",
        "- Fill in the `TODO`s in the `train` method.\n",
        "\n",
        "`WARNING`: There are no test's for this. Implement carefully!"
      ]
    },
    {
      "cell_type": "markdown",
      "metadata": {
        "id": "X2-j-cKa7Q65"
      },
      "source": [
        "# Experiments\n",
        "From this point onwards you may want to switch to a `GPU` runtime. \n",
        "- `OBJECTIVE`: You must achieve a per-character perplexity ≤ 3.5 in order to get points for Task 2."
      ]
    },
    {
      "cell_type": "markdown",
      "metadata": {
        "id": "nV2GWmKd7Q65"
      },
      "source": [
        "## Config\n",
        "- You can use the `config.yaml` file to set your config for your ablation study.\n",
        "\n",
        "---\n",
        "### Notes:\n",
        "\n",
        "- Set `tokenization: token_type:` to specify your desired tokenization strategy\n",
        "- You will need to set the root path to your `hw4p1_data` folder in `data: root:`. This will depend on your setup. For eg. if you are following out setup instruction:\n",
        "  - `PSC`: `\"/local/hw4_data/hw4p1_data\"`\n",
        "  - `Colab:`: `\"/content/hw4_data/hw4p1_data\"`\n",
        "  - `Kaggle:`: `\"/kaggle/input/s25-hw4-data/hw4p1_data\"`\n",
        "- There's extra configurations in the `optimizer` section which will only be relevant if you decide to use the `create_optimizer` function we've provided in `hw4lib/utils/create_optimizer.py`.\n",
        "- `BE CAREFUL` while setting numeric values. Eg. `1e-4` will get serialized to a `str` while `1.0e-4` gets serialized to float. \n"
      ]
    },
    {
      "cell_type": "code",
      "execution_count": 2,
      "metadata": {
        "id": "XLChmBx67Q65"
      },
      "outputs": [
        {
          "name": "stdout",
          "output_type": "stream",
          "text": [
            "Overwriting config_lm.yaml\n"
          ]
        }
      ],
      "source": [
        "%%writefile config_lm.yaml\n",
        "\n",
        "Name                      : \"lenghanz\"\n",
        "\n",
        "###### Tokenization ------------------------------------------------------------\n",
        "tokenization:\n",
        "  token_type                : \"10k\"       # [char, 1k, 5k, 10k]\n",
        "  token_map :\n",
        "      'char': 'hw4lib/data/tokenizer_jsons/tokenizer_char.json'\n",
        "      '1k'  : 'hw4lib/data/tokenizer_jsons/tokenizer_1000.json'\n",
        "      '5k'  : 'hw4lib/data/tokenizer_jsons/tokenizer_5000.json'\n",
        "      '10k' : 'hw4lib/data/tokenizer_jsons/tokenizer_10000.json'\n",
        "\n",
        "###### Dataset -----------------------------------------------------------------\n",
        "data:                    # Currently setup for Colab assuming out setup\n",
        "  root                 : \"hw4_data/hw4p1_data\"  # TODO: Set the root path of your data\n",
        "  train_partition      : \"train\"  # train\n",
        "  val_partition        : \"val\"    # val\n",
        "  test_partition       : \"test\"   # test\n",
        "  subset               : 1.0      # Load a subset of the data (for debugging, testing, etc\n",
        "  batch_size           : 1024      #\n",
        "  NUM_WORKERS          : 32        # Set to 0 for CPU\n",
        "\n",
        "###### Network Specs -------------------------------------------------------------\n",
        "model: # Decoder-Only Language Model (HW4P1)\n",
        "  d_model                   : 384\n",
        "  d_ff                      : 1536\n",
        "  num_layers                : 4\n",
        "  num_heads                 : 8\n",
        "  dropout                   : 0.1\n",
        "  layer_drop_rate           : 0.1\n",
        "  weight_tying              : True\n",
        "\n",
        "###### Common Training Parameters ------------------------------------------------\n",
        "training:\n",
        "  use_wandb                   : True   # Toggle wandb logging\n",
        "  wandb_run_id                : \"none\" # \"none\" or \"run_id\"\n",
        "  resume                      : False  # Resume an existing run (run_id != 'none')\n",
        "  epochs                      : 60\n",
        "  gradient_accumulation_steps : 1\n",
        "  wandb_project               : \"HW4P1\" # wandb project to log to\n",
        "\n",
        "###### Loss ----------------------------------------------------------------------\n",
        "loss: # Just good ol' CrossEntropy\n",
        "  label_smoothing: 0.1\n",
        "\n",
        "###### Optimizer -----------------------------------------------------------------\n",
        "optimizer:\n",
        "  name: \"adamw\" # Options: sgd, adam, adamw\n",
        "  lr: 5.0e-4   # Base learning rate\n",
        "\n",
        "  # Common parameters\n",
        "  weight_decay: 0.0001\n",
        "\n",
        "  # Parameter groups\n",
        "  param_groups:\n",
        "    - name: self_attn\n",
        "      patterns: []  # Will match all parameters containing keywords set their learning rate to 0.0001\n",
        "      lr: 0.0001    # LR for self_attn\n",
        "      layer_decay:\n",
        "        enabled: False\n",
        "        decay_rate: 0.8\n",
        "\n",
        "    - name: ffn\n",
        "      patterns: [] # Will match all parameters containing \"ffn\" and set their learning rate to 0.0001\n",
        "      lr: 0.0001   # LR for ffn\n",
        "      layer_decay:\n",
        "        enabled: False\n",
        "        decay_rate: 0.8\n",
        "\n",
        "  # Layer-wise learning rates\n",
        "  layer_decay:\n",
        "    enabled: False\n",
        "    decay_rate: 0.75\n",
        "\n",
        "  # SGD specific parameters\n",
        "  sgd:\n",
        "    momentum: 0.9\n",
        "    nesterov: True\n",
        "    dampening: 0\n",
        "\n",
        "  # Adam specific parameters\n",
        "  adam:\n",
        "    betas: [0.9, 0.999]\n",
        "    eps: 1.0e-8\n",
        "    amsgrad: False\n",
        "\n",
        "  # AdamW specific parameters\n",
        "  adamw:\n",
        "    betas: [0.9, 0.999]\n",
        "    eps: 1.0e-8\n",
        "    amsgrad: False\n",
        "\n",
        "###### Scheduler -----------------------------------------------------------------\n",
        "scheduler:\n",
        "  name: \"cosine\"  # Options: reduce_lr, cosine, cosine_warm\n",
        "\n",
        "  # ReduceLROnPlateau specific parameters\n",
        "  reduce_lr:\n",
        "    mode: \"min\"  # Options: min, max\n",
        "    factor: 0.1  # Factor to reduce learning rate by\n",
        "    patience: 10  # Number of epochs with no improvement after which LR will be reduced\n",
        "    threshold: 0.0001  # Threshold for measuring the new optimum\n",
        "    threshold_mode: \"rel\"  # Options: rel, abs\n",
        "    cooldown: 0  # Number of epochs to wait before resuming normal operation\n",
        "    min_lr: 0.0000001  # Minimum learning rate\n",
        "    eps: 1.0e-8  # Minimal decay applied to lr\n",
        "\n",
        "  # CosineAnnealingLR specific parameters\n",
        "  cosine:\n",
        "    T_max: 55  # Maximum number of iterations\n",
        "    eta_min: 1.0e-8  # Minimum learning rate\n",
        "    last_epoch: -1\n",
        "\n",
        "  # CosineAnnealingWarmRestarts specific parameters\n",
        "  cosine_warm:\n",
        "    T_0: 4  # Number of iterations for the first restart\n",
        "    T_mult: 4  # Factor increasing T_i after each restart\n",
        "    eta_min: 0.0000001  # Minimum learning rate\n",
        "    last_epoch: -1\n",
        "\n",
        "  # Warmup parameters (can be used with any scheduler)\n",
        "  warmup:\n",
        "    enabled: True\n",
        "    type: \"exponential\"  # Options: linear, exponential\n",
        "    epochs: 5\n",
        "    start_factor: 0.1\n",
        "    end_factor: 1.0"
      ]
    },
    {
      "cell_type": "code",
      "execution_count": 3,
      "metadata": {
        "id": "Fl_9Vv117Q66"
      },
      "outputs": [],
      "source": [
        "with open('config_lm.yaml', 'r') as file:\n",
        "    config = yaml.safe_load(file)"
      ]
    },
    {
      "cell_type": "markdown",
      "metadata": {
        "id": "Bu56OILL7Q66"
      },
      "source": [
        "## Tokenizer"
      ]
    },
    {
      "cell_type": "code",
      "execution_count": 4,
      "metadata": {
        "id": "XBrysj6-7Q66"
      },
      "outputs": [
        {
          "name": "stdout",
          "output_type": "stream",
          "text": [
            "================================================================================\n",
            "                         Tokenizer Configuration (10k)                          \n",
            "--------------------------------------------------------------------------------\n",
            "Vocabulary size:     10000\n",
            "\n",
            "Special Tokens:\n",
            "PAD:              0\n",
            "UNK:              1\n",
            "MASK:             2\n",
            "SOS:              3\n",
            "EOS:              4\n",
            "BLANK:            5\n",
            "\n",
            "Validation Example:\n",
            "--------------------------------------------------------------------------------\n",
            "Input text:  [SOS]HI DEEP LEARNERS[EOS]\n",
            "Tokens:      ['[SOS]', 'H', 'I', 'ĠDEEP', 'ĠLEARN', 'ERS', '[EOS]']\n",
            "Token IDs:   [3, 14, 15, 1169, 2545, 214, 4]\n",
            "Decoded:     [SOS]HI DEEP LEARNERS[EOS]\n",
            "================================================================================\n"
          ]
        }
      ],
      "source": [
        "Tokenizer = H4Tokenizer(\n",
        "    token_map  = config['tokenization']['token_map'],\n",
        "    token_type = config['tokenization']['token_type']\n",
        ")"
      ]
    },
    {
      "cell_type": "markdown",
      "metadata": {
        "id": "N-vsGdfu7Q66"
      },
      "source": [
        "## Datasets"
      ]
    },
    {
      "cell_type": "code",
      "execution_count": 5,
      "metadata": {
        "id": "OCR3fGoL7Q66"
      },
      "outputs": [
        {
          "name": "stdout",
          "output_type": "stream",
          "text": [
            "Loading transcripts for train partition...\n"
          ]
        },
        {
          "name": "stderr",
          "output_type": "stream",
          "text": [
            "  0%|          | 0/267178 [00:00<?, ?it/s]"
          ]
        },
        {
          "name": "stderr",
          "output_type": "stream",
          "text": [
            "100%|██████████| 267178/267178 [00:31<00:00, 8446.43it/s]\n"
          ]
        },
        {
          "name": "stdout",
          "output_type": "stream",
          "text": [
            "Loading transcripts for val partition...\n"
          ]
        },
        {
          "name": "stderr",
          "output_type": "stream",
          "text": [
            "100%|██████████| 7031/7031 [00:00<00:00, 9102.94it/s]\n"
          ]
        },
        {
          "name": "stdout",
          "output_type": "stream",
          "text": [
            "Loading transcripts for test partition...\n"
          ]
        },
        {
          "name": "stderr",
          "output_type": "stream",
          "text": [
            "100%|██████████| 7032/7032 [00:00<00:00, 9142.22it/s]\n"
          ]
        },
        {
          "data": {
            "text/plain": [
              "1716"
            ]
          },
          "execution_count": 5,
          "metadata": {},
          "output_type": "execute_result"
        }
      ],
      "source": [
        "train_dataset  = LMDataset(\n",
        "    partition  = config['data']['train_partition'],\n",
        "    config     = config['data'],\n",
        "    tokenizer  = Tokenizer\n",
        ")\n",
        "\n",
        "val_dataset    = LMDataset(\n",
        "    partition  = config['data']['val_partition'],\n",
        "    config     = config['data'],\n",
        "    tokenizer  = Tokenizer\n",
        ")\n",
        "\n",
        "test_dataset   = LMDataset(\n",
        "    partition  = config['data']['test_partition'],\n",
        "    config     = config['data'],\n",
        "    tokenizer  = Tokenizer\n",
        ")\n",
        "\n",
        "gc.collect()"
      ]
    },
    {
      "cell_type": "markdown",
      "metadata": {
        "id": "Qf8Y_COP7Q66"
      },
      "source": [
        "## Dataloaders"
      ]
    },
    {
      "cell_type": "code",
      "execution_count": 6,
      "metadata": {
        "id": "0GajQ0LX7Q66"
      },
      "outputs": [],
      "source": [
        "train_loader    = DataLoader(\n",
        "    dataset     = train_dataset,\n",
        "    batch_size  = config['data']['batch_size'],\n",
        "    shuffle     = True,\n",
        "    num_workers = config['data']['NUM_WORKERS'] if device == 'cuda' else 0,\n",
        "    pin_memory  = True,\n",
        "    collate_fn  = train_dataset.collate_fn\n",
        ")\n",
        "\n",
        "val_loader      = DataLoader(\n",
        "    dataset     = val_dataset,\n",
        "    batch_size  = config['data']['batch_size'],\n",
        "    shuffle     = False,\n",
        "    num_workers = config['data']['NUM_WORKERS'] if device == 'cuda' else 0,\n",
        "    pin_memory  = True,\n",
        "    collate_fn  = val_dataset.collate_fn\n",
        ")\n",
        "\n",
        "test_loader     = DataLoader(\n",
        "    dataset     = test_dataset,\n",
        "    batch_size  = config['data']['batch_size'],\n",
        "    shuffle     = False,\n",
        "    num_workers = config['data']['NUM_WORKERS'] if device == 'cuda' else 0,\n",
        "    pin_memory  = True,\n",
        "    collate_fn  = test_dataset.collate_fn\n",
        ")"
      ]
    },
    {
      "cell_type": "markdown",
      "metadata": {
        "id": "WLKjKWJQ7Q67"
      },
      "source": [
        "### Dataloader Verification"
      ]
    },
    {
      "cell_type": "code",
      "execution_count": 7,
      "metadata": {
        "id": "xY40PhyN7Q67"
      },
      "outputs": [
        {
          "name": "stdout",
          "output_type": "stream",
          "text": [
            "==================================================\n",
            "             Dataloader Verification              \n",
            "==================================================\n",
            "Dataloader Partition     : train\n",
            "--------------------------------------------------\n",
            "Number of Batches        : 261\n",
            "Batch Size               : 1024\n",
            "--------------------------------------------------\n",
            "Checking shapes of the data...                    \n",
            "\n"
          ]
        },
        {
          "name": "stdout",
          "output_type": "stream",
          "text": [
            "Shifted Transcript Shape : [1024, 71]\n",
            "Golden Transcript Shape  : [1024, 71]\n",
            "Transcript Lengths Shape : [1024]\n",
            "--------------------------------------------------\n",
            "Max Transcript Length    : 105\n",
            "Avg. Chars per Token     : 4.62\n",
            "==================================================\n"
          ]
        }
      ],
      "source": [
        "verify_dataloader(train_loader)"
      ]
    },
    {
      "cell_type": "code",
      "execution_count": 8,
      "metadata": {
        "id": "Shfm0w7E7Q67"
      },
      "outputs": [
        {
          "name": "stdout",
          "output_type": "stream",
          "text": [
            "==================================================\n",
            "             Dataloader Verification              \n",
            "==================================================\n",
            "Dataloader Partition     : val\n",
            "--------------------------------------------------\n",
            "Number of Batches        : 7\n",
            "Batch Size               : 1024\n",
            "--------------------------------------------------\n",
            "Checking shapes of the data...                    \n",
            "\n",
            "Shifted Transcript Shape : [1024, 80]\n",
            "Golden Transcript Shape  : [1024, 80]\n",
            "Transcript Lengths Shape : [1024]\n",
            "--------------------------------------------------\n",
            "Max Transcript Length    : 87\n",
            "Avg. Chars per Token     : 4.61\n",
            "==================================================\n"
          ]
        }
      ],
      "source": [
        "verify_dataloader(val_loader)"
      ]
    },
    {
      "cell_type": "code",
      "execution_count": 9,
      "metadata": {
        "id": "dlP3xkCg7Q67"
      },
      "outputs": [
        {
          "name": "stdout",
          "output_type": "stream",
          "text": [
            "==================================================\n",
            "             Dataloader Verification              \n",
            "==================================================\n",
            "Dataloader Partition     : test\n",
            "--------------------------------------------------\n",
            "Number of Batches        : 7\n",
            "Batch Size               : 1024\n",
            "--------------------------------------------------\n",
            "Checking shapes of the data...                    \n",
            "\n",
            "Shifted Transcript Shape : [1024, 78]\n",
            "Golden Transcript Shape  : [1024, 78]\n",
            "Transcript Lengths Shape : [1024]\n",
            "--------------------------------------------------\n",
            "Max Transcript Length    : 86\n",
            "Avg. Chars per Token     : 4.61\n",
            "==================================================\n"
          ]
        }
      ],
      "source": [
        "verify_dataloader(test_loader)"
      ]
    },
    {
      "cell_type": "markdown",
      "metadata": {
        "id": "HCrlXlZH7Q67"
      },
      "source": [
        "## Calculate Max Transcript Length\n",
        "\n",
        "\n"
      ]
    },
    {
      "cell_type": "markdown",
      "metadata": {
        "id": "aIGxOLDU7Q67"
      },
      "source": [
        "Calculating the maximum transcript length across your dataset is a crucial step when working with certain transformer models.\n",
        "-  We'll use sinusoidal positional encodings that must be precomputed up to a fixed maximum length.\n",
        "- This maximum length is a hyperparameter that determines:\n",
        "  - How long of a sequence your model can process\n",
        "  - The size of your positional encoding matrix\n",
        "  - Memory requirements during training and inference\n",
        "- `Requirements`: For this assignment, ensure your positional encodings can accommodate at least the longest sequence in your dataset to prevent truncation. However, you can set this value higher if you anticipate using your language model to work with longer sequences in future tasks (hint: this might be useful for P2! 😉)."
      ]
    },
    {
      "cell_type": "code",
      "execution_count": 10,
      "metadata": {
        "id": "iWAWHucJ7Q67"
      },
      "outputs": [
        {
          "name": "stdout",
          "output_type": "stream",
          "text": [
            "==================================================\n",
            "Global Max Transcript Length   : 105\n",
            "==================================================\n"
          ]
        }
      ],
      "source": [
        "max_transcript_length = max(train_dataset.text_max_len, val_dataset.text_max_len, test_dataset.text_max_len)\n",
        "print(\"=\"*50)\n",
        "print(f\"{'Global Max Transcript Length':<30} : {max_transcript_length}\")\n",
        "print(\"=\"*50)"
      ]
    },
    {
      "cell_type": "markdown",
      "metadata": {
        "id": "ot4OuRE27Q67"
      },
      "source": [
        "## Model"
      ]
    },
    {
      "cell_type": "code",
      "execution_count": 11,
      "metadata": {
        "id": "qL2-8IbL7Q67"
      },
      "outputs": [
        {
          "name": "stdout",
          "output_type": "stream",
          "text": [
            "Shape of shifted_transcripts :  torch.Size([1024, 79])\n",
            "Shape of golden_transcripts  :  torch.Size([1024, 79])\n",
            "Shape of transcript_lengths  :  torch.Size([1024])\n",
            "===============================================================================================\n",
            "Layer (type:depth-idx)                        Output Shape              Param #\n",
            "===============================================================================================\n",
            "DecoderOnlyTransformer                        [1024, 79, 10000]         --\n",
            "├─Embedding: 1-1                              [1024, 79, 384]           3,840,000\n",
            "├─PositionalEncoding: 1-2                     [1024, 79, 384]           --\n",
            "├─Dropout: 1-3                                [1024, 79, 384]           --\n",
            "├─ModuleList: 1-4                             --                        --\n",
            "│    └─SelfAttentionDecoderLayer: 2-1         [1024, 79, 384]           --\n",
            "│    │    └─SelfAttentionLayer: 3-1           [1024, 79, 384]           592,128\n",
            "│    │    └─FeedForwardLayer: 3-2             [1024, 79, 384]           1,182,336\n",
            "│    └─SelfAttentionDecoderLayer: 2-2         [1024, 79, 384]           --\n",
            "│    │    └─SelfAttentionLayer: 3-3           [1024, 79, 384]           592,128\n",
            "│    │    └─FeedForwardLayer: 3-4             [1024, 79, 384]           1,182,336\n",
            "│    └─SelfAttentionDecoderLayer: 2-3         [1024, 79, 384]           --\n",
            "│    │    └─SelfAttentionLayer: 3-5           [1024, 79, 384]           592,128\n",
            "│    │    └─FeedForwardLayer: 3-6             [1024, 79, 384]           1,182,336\n",
            "│    └─SelfAttentionDecoderLayer: 2-4         [1024, 79, 384]           --\n",
            "│    │    └─SelfAttentionLayer: 3-7           [1024, 79, 384]           592,128\n",
            "│    │    └─FeedForwardLayer: 3-8             [1024, 79, 384]           1,182,336\n",
            "├─LayerNorm: 1-5                              [1024, 79, 384]           768\n",
            "├─Linear: 1-6                                 [1024, 79, 10000]         3,850,000\n",
            "===============================================================================================\n",
            "Total params: 14,788,624\n",
            "Trainable params: 14,788,624\n",
            "Non-trainable params: 0\n",
            "Total mult-adds (Units.GIGABYTES): 12.72\n",
            "===============================================================================================\n",
            "Input size (MB): 0.66\n",
            "Forward/backward pass size (MB): 13927.06\n",
            "Params size (MB): 49.69\n",
            "Estimated Total Size (MB): 13977.40\n",
            "===============================================================================================\n"
          ]
        }
      ],
      "source": [
        "model_config = config['model']\n",
        "model_config.update({\n",
        "    'max_len': max_transcript_length,\n",
        "    'num_classes': Tokenizer.vocab_size\n",
        "})\n",
        "model = DecoderOnlyTransformer(**model_config)\n",
        "\n",
        "# Get some inputs from the text loader\n",
        "for batch in train_loader:\n",
        "    shifted_transcripts, golden_transcripts, transcript_lengths = batch\n",
        "    print(\"Shape of shifted_transcripts : \", shifted_transcripts.shape)\n",
        "    print(\"Shape of golden_transcripts  : \", golden_transcripts.shape)\n",
        "    print(\"Shape of transcript_lengths  : \", transcript_lengths.shape)\n",
        "    break\n",
        "\n",
        "model_stats = summary(model, input_data=[shifted_transcripts, transcript_lengths])\n",
        "print(model_stats)"
      ]
    },
    {
      "cell_type": "markdown",
      "metadata": {
        "id": "SH973f3x7Q67"
      },
      "source": [
        "## Wandb"
      ]
    },
    {
      "cell_type": "code",
      "execution_count": 12,
      "metadata": {
        "id": "oz7os7UA7Q68"
      },
      "outputs": [
        {
          "name": "stderr",
          "output_type": "stream",
          "text": [
            "Failed to detect the name of this notebook, you can set it manually with the WANDB_NOTEBOOK_NAME environment variable to enable code saving.\n"
          ]
        },
        {
          "name": "stderr",
          "output_type": "stream",
          "text": [
            "\u001b[34m\u001b[1mwandb\u001b[0m: Currently logged in as: \u001b[33mzhulenghan8211\u001b[0m (\u001b[33mzhulenghan8211-carnegie-mellon-university\u001b[0m). Use \u001b[1m`wandb login --relogin`\u001b[0m to force relogin\n",
            "\u001b[34m\u001b[1mwandb\u001b[0m: \u001b[33mWARNING\u001b[0m If you're specifying your api key in code, ensure this code is not shared publicly.\n",
            "\u001b[34m\u001b[1mwandb\u001b[0m: \u001b[33mWARNING\u001b[0m Consider setting the WANDB_API_KEY environment variable, or running `wandb login` from the command line.\n",
            "\u001b[34m\u001b[1mwandb\u001b[0m: Appending key for api.wandb.ai to your netrc file: /root/.netrc\n"
          ]
        },
        {
          "data": {
            "text/plain": [
              "True"
            ]
          },
          "execution_count": 12,
          "metadata": {},
          "output_type": "execute_result"
        }
      ],
      "source": [
        "wandb.login(key=\"f83d7e9581d63eb876ad17665cf7c5c03d563770\")"
      ]
    },
    {
      "cell_type": "markdown",
      "metadata": {
        "id": "tQAemeOM7Q68"
      },
      "source": [
        "## Trainer\n",
        "\n",
        "Every time you run the trainer, it will create a new directory in the `expts` folder with the following structure:\n",
        "```\n",
        "expts/\n",
        "    └── {run_name}/\n",
        "        ├── config.yaml\n",
        "        ├── model_arch.txt\n",
        "        ├── checkpoints/\n",
        "        │   ├── checkpoint-best-metric-model.pth\n",
        "        │   └── checkpoint-last-epoch-model.pth\n",
        "        ├── attn/\n",
        "        │   └── {attention visualizations}\n",
        "        └── text/\n",
        "            └── {generated text outputs}\n",
        "```"
      ]
    },
    {
      "cell_type": "code",
      "execution_count": 13,
      "metadata": {
        "id": "UcvGSnWi7Q68"
      },
      "outputs": [
        {
          "name": "stdout",
          "output_type": "stream",
          "text": [
            "Using device: cuda\n"
          ]
        },
        {
          "name": "stderr",
          "output_type": "stream",
          "text": [
            "\u001b[34m\u001b[1mwandb\u001b[0m: Using wandb-core as the SDK backend.  Please refer to https://wandb.me/wandb-core for more information.\n"
          ]
        },
        {
          "data": {
            "application/vnd.jupyter.widget-view+json": {
              "model_id": "435a6a006e614e61b6dfc12aed95bb60",
              "version_major": 2,
              "version_minor": 0
            },
            "text/plain": [
              "VBox(children=(Label(value='Waiting for wandb.init()...\\r'), FloatProgress(value=0.0111121578892279, max=1.0))…"
            ]
          },
          "metadata": {},
          "output_type": "display_data"
        },
        {
          "data": {
            "text/html": [
              "Tracking run with wandb version 0.19.2"
            ],
            "text/plain": [
              "<IPython.core.display.HTML object>"
            ]
          },
          "metadata": {},
          "output_type": "display_data"
        },
        {
          "data": {
            "text/html": [
              "Run data is saved locally in <code>/root/autodl-tmp/IDL-HW4/wandb/run-20250413_085118-r7j1nnyo</code>"
            ],
            "text/plain": [
              "<IPython.core.display.HTML object>"
            ]
          },
          "metadata": {},
          "output_type": "display_data"
        },
        {
          "data": {
            "text/html": [
              "Syncing run <strong><a href='https://wandb.ai/zhulenghan8211-carnegie-mellon-university/HW4P1/runs/r7j1nnyo' target=\"_blank\">lm-384/1536</a></strong> to <a href='https://wandb.ai/zhulenghan8211-carnegie-mellon-university/HW4P1' target=\"_blank\">Weights & Biases</a> (<a href='https://wandb.me/developer-guide' target=\"_blank\">docs</a>)<br>"
            ],
            "text/plain": [
              "<IPython.core.display.HTML object>"
            ]
          },
          "metadata": {},
          "output_type": "display_data"
        },
        {
          "data": {
            "text/html": [
              " View project at <a href='https://wandb.ai/zhulenghan8211-carnegie-mellon-university/HW4P1' target=\"_blank\">https://wandb.ai/zhulenghan8211-carnegie-mellon-university/HW4P1</a>"
            ],
            "text/plain": [
              "<IPython.core.display.HTML object>"
            ]
          },
          "metadata": {},
          "output_type": "display_data"
        },
        {
          "data": {
            "text/html": [
              " View run at <a href='https://wandb.ai/zhulenghan8211-carnegie-mellon-university/HW4P1/runs/r7j1nnyo' target=\"_blank\">https://wandb.ai/zhulenghan8211-carnegie-mellon-university/HW4P1/runs/r7j1nnyo</a>"
            ],
            "text/plain": [
              "<IPython.core.display.HTML object>"
            ]
          },
          "metadata": {},
          "output_type": "display_data"
        }
      ],
      "source": [
        "trainer = LMTrainer(\n",
        "    model=model,\n",
        "    tokenizer=Tokenizer,\n",
        "    config=config,\n",
        "    run_name=\"lm-384/1536\",\n",
        "    config_file=\"config_lm.yaml\",\n",
        "    device=device\n",
        ")"
      ]
    },
    {
      "cell_type": "markdown",
      "metadata": {
        "id": "CJREaFhqiPrT"
      },
      "source": [
        "### Setup Optimizer and Scheduler\n",
        "\n",
        "You can set your own optimizer and scheduler by setting the class members in the `LMTrainer` class.\n",
        "Eg:\n",
        "```python\n",
        "trainer.optimizer = optim.AdamW(model.parameters(), lr=config['optimizer']['lr'], weight_decay=config['optimizer']['weight_decay'])\n",
        "trainer.scheduler = optim.lr_scheduler.CosineAnnealingLR(trainer.optimizer, T_max=config['training']['epochs'])\n",
        "```\n",
        "\n",
        "We also provide a utility function to create your own optimizer and scheduler with the congig and some extra bells and whistles. You are free to use it or not. Do read their code and documentation to understand how it works (`hw4lib/utils/*`).\n"
      ]
    },
    {
      "cell_type": "markdown",
      "metadata": {},
      "source": [
        "#### Setting up the optimizer"
      ]
    },
    {
      "cell_type": "code",
      "execution_count": 14,
      "metadata": {
        "id": "GkljGtIPkATt"
      },
      "outputs": [
        {
          "name": "stdout",
          "output_type": "stream",
          "text": [
            "\n",
            "🔧 Configuring Optimizer:\n",
            "├── Type: ADAMW\n",
            "├── Base LR: 0.0005\n",
            "├── Weight Decay: 0.0001\n",
            "├── Parameter Groups:\n",
            "│   ├── Group: self_attn\n",
            "│   │   ├── LR: 0.0001\n",
            "│   │   └── Patterns: []\n",
            "│   ├── Group: ffn\n",
            "│   │   ├── LR: 0.0001\n",
            "│   │   └── Patterns: []\n",
            "│   └── Default Group (unmatched parameters)\n",
            "└── AdamW Specific:\n",
            "    ├── Betas: [0.9, 0.999]\n",
            "    ├── Epsilon: 1e-08\n",
            "    └── AMSGrad: False\n"
          ]
        }
      ],
      "source": [
        "trainer.optimizer = create_optimizer(\n",
        "    model=model,\n",
        "    opt_config=config['optimizer']\n",
        ")"
      ]
    },
    {
      "cell_type": "markdown",
      "metadata": {},
      "source": [
        "#### Creating a test scheduler and plotting the learning rate schedule"
      ]
    },
    {
      "cell_type": "code",
      "execution_count": 15,
      "metadata": {
        "id": "inatJGBVi3II"
      },
      "outputs": [
        {
          "name": "stdout",
          "output_type": "stream",
          "text": [
            "\n",
            "📈 Configuring Learning Rate Scheduler:\n",
            "├── Type: COSINE\n",
            "├── Cosine Annealing Settings:\n",
            "│   ├── T_max: 55 epochs (14355 steps)\n",
            "│   └── Min LR: 1e-08\n",
            "├── Warmup Settings:\n",
            "│   ├── Duration: 5 epochs (1305 steps)\n",
            "│   ├── Start Factor: 0.1\n",
            "│   └── End Factor: 1.0\n",
            "Warning: Only showing 5 out of 52 parameter groups for clarity\n"
          ]
        },
        {
          "name": "stderr",
          "output_type": "stream",
          "text": [
            "/root/miniconda3/envs/hw4/lib/python3.12/site-packages/torch/optim/lr_scheduler.py:240: UserWarning: The epoch parameter in `scheduler.step()` was not necessary and is being deprecated where possible. Please use `scheduler.step()` to step the scheduler. During the deprecation, if epoch is different from None, the closed form is used instead of the new chainable form, where available. Please open an issue if you are unable to replicate your use case: https://github.com/pytorch/pytorch/issues/new/choose.\n",
            "  warnings.warn(EPOCH_DEPRECATION_WARNING, UserWarning)\n"
          ]
        },
        {
          "data": {
            "image/png": "[encoded data removed]",
            "text/plain": [
              "<Figure size 1200x400 with 2 Axes>"
            ]
          },
          "metadata": {},
          "output_type": "display_data"
        }
      ],
      "source": [
        "test_scheduler = create_scheduler(\n",
        "    optimizer=trainer.optimizer,\n",
        "    scheduler_config=config['scheduler'],\n",
        "    train_loader=train_loader,\n",
        "    gradient_accumulation_steps=config['training']['gradient_accumulation_steps']\n",
        ")\n",
        "\n",
        "plot_lr_schedule(\n",
        "    scheduler=test_scheduler,\n",
        "    num_epochs=config['training']['epochs'],\n",
        "    train_loader=train_loader,\n",
        "    gradient_accumulation_steps=config['training']['gradient_accumulation_steps']\n",
        ")"
      ]
    },
    {
      "cell_type": "markdown",
      "metadata": {},
      "source": [
        "#### Setting up the scheduler"
      ]
    },
    {
      "cell_type": "code",
      "execution_count": 16,
      "metadata": {
        "id": "yXrwTbqdiPE_"
      },
      "outputs": [
        {
          "name": "stdout",
          "output_type": "stream",
          "text": [
            "\n",
            "📈 Configuring Learning Rate Scheduler:\n",
            "├── Type: COSINE\n",
            "├── Cosine Annealing Settings:\n",
            "│   ├── T_max: 55 epochs (14355 steps)\n",
            "│   └── Min LR: 1e-08\n",
            "├── Warmup Settings:\n",
            "│   ├── Duration: 5 epochs (1305 steps)\n",
            "│   ├── Start Factor: 0.1\n",
            "│   └── End Factor: 1.0\n"
          ]
        }
      ],
      "source": [
        "trainer.scheduler = create_scheduler(\n",
        "    optimizer=trainer.optimizer,\n",
        "    scheduler_config=config['scheduler'],\n",
        "    train_loader=train_loader,\n",
        "    gradient_accumulation_steps=config['training']['gradient_accumulation_steps']\n",
        ")"
      ]
    },
    {
      "cell_type": "markdown",
      "metadata": {
        "id": "0XI0dHJB7Q68"
      },
      "source": [
        "# Train\n",
        "- Set your epochs"
      ]
    },
    {
      "cell_type": "code",
      "execution_count": 17,
      "metadata": {
        "id": "nugAKoOw7Q68"
      },
      "outputs": [
        {
          "name": "stderr",
          "output_type": "stream",
          "text": [
            "[Training LM]:   0%|          | 0/261 [00:00<?, ?it/s]/root/autodl-tmp/IDL-HW4/hw4lib/trainers/lm_trainer.py:122: FutureWarning: `torch.cuda.amp.GradScaler(args...)` is deprecated. Please use `torch.amp.GradScaler('cuda', args...)` instead.\n",
            "  self.scaler = torch.cuda.amp.GradScaler()\n",
            "                                                                                                                                \r"
          ]
        },
        {
          "name": "stdout",
          "output_type": "stream",
          "text": [
            "Generating with greedy search...\n",
            "\n",
            "📊 Metrics (Epoch 0):\n",
            "├── TRAIN:\n",
            "│   ├── ce_loss_char: 1.6298\n",
            "│   ├── ce_loss_token: 7.5239\n",
            "│   ├── perplexity_char: 5.1031\n",
            "│   └── perplexity_token: 1851.7010\n",
            "└── VAL:\n",
            "    ├── ce_loss_char: 1.5637\n",
            "    ├── ce_loss_token: 7.2152\n",
            "    ├── perplexity_char: 4.7766\n",
            "    └── perplexity_token: 1359.9326\n",
            "└── TRAINING:\n",
            "    └── learning_rate: 0.000140\n"
          ]
        },
        {
          "name": "stderr",
          "output_type": "stream",
          "text": [
            "\u001b[34m\u001b[1mwandb\u001b[0m: \u001b[33mWARNING\u001b[0m Saving files without folders. If you want to preserve subdirectories pass base_path to wandb.save, i.e. wandb.save(\"/mnt/folder/file.h5\", base_path=\"/mnt\")\n",
            "[Training LM]:   0%|          | 0/261 [00:00<?, ?it/s]/root/autodl-tmp/IDL-HW4/hw4lib/trainers/lm_trainer.py:122: FutureWarning: `torch.cuda.amp.GradScaler(args...)` is deprecated. Please use `torch.amp.GradScaler('cuda', args...)` instead.\n",
            "  self.scaler = torch.cuda.amp.GradScaler()\n",
            "                                                                                                                                \r"
          ]
        },
        {
          "name": "stdout",
          "output_type": "stream",
          "text": [
            "Generating with greedy search...\n",
            "\n",
            "📊 Metrics (Epoch 1):\n",
            "├── TRAIN:\n",
            "│   ├── ce_loss_char: 1.5647\n",
            "│   ├── ce_loss_token: 7.2231\n",
            "│   ├── perplexity_char: 4.7812\n",
            "│   └── perplexity_token: 1370.7615\n",
            "└── VAL:\n",
            "    ├── ce_loss_char: 1.5630\n",
            "    ├── ce_loss_token: 7.2119\n",
            "    ├── perplexity_char: 4.7731\n",
            "    └── perplexity_token: 1355.4500\n",
            "└── TRAINING:\n",
            "    └── learning_rate: 0.000230\n"
          ]
        },
        {
          "name": "stderr",
          "output_type": "stream",
          "text": [
            "[Training LM]:   0%|          | 0/261 [00:00<?, ?it/s]/root/autodl-tmp/IDL-HW4/hw4lib/trainers/lm_trainer.py:122: FutureWarning: `torch.cuda.amp.GradScaler(args...)` is deprecated. Please use `torch.amp.GradScaler('cuda', args...)` instead.\n",
            "  self.scaler = torch.cuda.amp.GradScaler()\n",
            "                                                                                                                                \r"
          ]
        },
        {
          "name": "stdout",
          "output_type": "stream",
          "text": [
            "Generating with greedy search...\n",
            "\n",
            "📊 Metrics (Epoch 2):\n",
            "├── TRAIN:\n",
            "│   ├── ce_loss_char: 1.5555\n",
            "│   ├── ce_loss_token: 7.1809\n",
            "│   ├── perplexity_char: 4.7377\n",
            "│   └── perplexity_token: 1314.0436\n",
            "└── VAL:\n",
            "    ├── ce_loss_char: 1.5180\n",
            "    ├── ce_loss_token: 7.0045\n",
            "    ├── perplexity_char: 4.5633\n",
            "    └── perplexity_token: 1101.5286\n",
            "└── TRAINING:\n",
            "    └── learning_rate: 0.000320\n"
          ]
        },
        {
          "name": "stderr",
          "output_type": "stream",
          "text": [
            "[Training LM]:   0%|          | 0/261 [00:00<?, ?it/s]/root/autodl-tmp/IDL-HW4/hw4lib/trainers/lm_trainer.py:122: FutureWarning: `torch.cuda.amp.GradScaler(args...)` is deprecated. Please use `torch.amp.GradScaler('cuda', args...)` instead.\n",
            "  self.scaler = torch.cuda.amp.GradScaler()\n",
            "                                                                                                                                \r"
          ]
        },
        {
          "name": "stdout",
          "output_type": "stream",
          "text": [
            "Generating with greedy search...\n",
            "\n",
            "📊 Metrics (Epoch 3):\n",
            "├── TRAIN:\n",
            "│   ├── ce_loss_char: 1.5032\n",
            "│   ├── ce_loss_token: 6.9394\n",
            "│   ├── perplexity_char: 4.4962\n",
            "│   └── perplexity_token: 1032.1465\n",
            "└── VAL:\n",
            "    ├── ce_loss_char: 1.4692\n",
            "    ├── ce_loss_token: 6.7789\n",
            "    ├── perplexity_char: 4.3456\n",
            "    └── perplexity_token: 879.0737\n",
            "└── TRAINING:\n",
            "    └── learning_rate: 0.000410\n"
          ]
        },
        {
          "name": "stderr",
          "output_type": "stream",
          "text": [
            "[Training LM]:   0%|          | 0/261 [00:00<?, ?it/s]/root/autodl-tmp/IDL-HW4/hw4lib/trainers/lm_trainer.py:122: FutureWarning: `torch.cuda.amp.GradScaler(args...)` is deprecated. Please use `torch.amp.GradScaler('cuda', args...)` instead.\n",
            "  self.scaler = torch.cuda.amp.GradScaler()\n",
            "[Training LM]: 100%|█████████▉| 260/261 [01:12<00:00,  3.37it/s, acc_step=1/1, ce_loss_token=6.7465, perplexity_token=851.1133]/root/miniconda3/envs/hw4/lib/python3.12/site-packages/torch/optim/lr_scheduler.py:240: UserWarning: The epoch parameter in `scheduler.step()` was not necessary and is being deprecated where possible. Please use `scheduler.step()` to step the scheduler. During the deprecation, if epoch is different from None, the closed form is used instead of the new chainable form, where available. Please open an issue if you are unable to replicate your use case: https://github.com/pytorch/pytorch/issues/new/choose.\n",
            "  warnings.warn(EPOCH_DEPRECATION_WARNING, UserWarning)\n",
            "                                                                                                                               \r"
          ]
        },
        {
          "name": "stdout",
          "output_type": "stream",
          "text": [
            "Generating with greedy search...\n",
            "\n",
            "📊 Metrics (Epoch 4):\n",
            "├── TRAIN:\n",
            "│   ├── ce_loss_char: 1.4613\n",
            "│   ├── ce_loss_token: 6.7460\n",
            "│   ├── perplexity_char: 4.3117\n",
            "│   └── perplexity_token: 850.6321\n",
            "└── VAL:\n",
            "    ├── ce_loss_char: 1.4246\n",
            "    ├── ce_loss_token: 6.5735\n",
            "    ├── perplexity_char: 4.1564\n",
            "    └── perplexity_token: 715.8554\n",
            "└── TRAINING:\n",
            "    └── learning_rate: 0.000500\n"
          ]
        },
        {
          "name": "stderr",
          "output_type": "stream",
          "text": [
            "[Training LM]:   0%|          | 0/261 [00:00<?, ?it/s]/root/autodl-tmp/IDL-HW4/hw4lib/trainers/lm_trainer.py:122: FutureWarning: `torch.cuda.amp.GradScaler(args...)` is deprecated. Please use `torch.amp.GradScaler('cuda', args...)` instead.\n",
            "  self.scaler = torch.cuda.amp.GradScaler()\n",
            "                                                                                                                               \r"
          ]
        },
        {
          "name": "stdout",
          "output_type": "stream",
          "text": [
            "Generating with greedy search...\n",
            "\n",
            "📊 Metrics (Epoch 5):\n",
            "├── TRAIN:\n",
            "│   ├── ce_loss_char: 1.4264\n",
            "│   ├── ce_loss_token: 6.5848\n",
            "│   ├── perplexity_char: 4.1638\n",
            "│   └── perplexity_token: 724.0033\n",
            "└── VAL:\n",
            "    ├── ce_loss_char: 1.4029\n",
            "    ├── ce_loss_token: 6.4733\n",
            "    ├── perplexity_char: 4.0671\n",
            "    └── perplexity_token: 647.6346\n",
            "└── TRAINING:\n",
            "    └── learning_rate: 0.000500\n"
          ]
        },
        {
          "name": "stderr",
          "output_type": "stream",
          "text": [
            "[Training LM]:   0%|          | 0/261 [00:00<?, ?it/s]/root/autodl-tmp/IDL-HW4/hw4lib/trainers/lm_trainer.py:122: FutureWarning: `torch.cuda.amp.GradScaler(args...)` is deprecated. Please use `torch.amp.GradScaler('cuda', args...)` instead.\n",
            "  self.scaler = torch.cuda.amp.GradScaler()\n",
            "                                                                                                                               \r"
          ]
        },
        {
          "name": "stdout",
          "output_type": "stream",
          "text": [
            "Generating with greedy search...\n",
            "\n",
            "📊 Metrics (Epoch 6):\n",
            "├── TRAIN:\n",
            "│   ├── ce_loss_char: 1.4049\n",
            "│   ├── ce_loss_token: 6.4853\n",
            "│   ├── perplexity_char: 4.0750\n",
            "│   └── perplexity_token: 655.4666\n",
            "└── VAL:\n",
            "    ├── ce_loss_char: 1.3715\n",
            "    ├── ce_loss_token: 6.3284\n",
            "    ├── perplexity_char: 3.9414\n",
            "    └── perplexity_token: 560.2791\n",
            "└── TRAINING:\n",
            "    └── learning_rate: 0.000498\n"
          ]
        },
        {
          "name": "stderr",
          "output_type": "stream",
          "text": [
            "[Training LM]:   0%|          | 0/261 [00:00<?, ?it/s]/root/autodl-tmp/IDL-HW4/hw4lib/trainers/lm_trainer.py:122: FutureWarning: `torch.cuda.amp.GradScaler(args...)` is deprecated. Please use `torch.amp.GradScaler('cuda', args...)` instead.\n",
            "  self.scaler = torch.cuda.amp.GradScaler()\n",
            "                                                                                                                               \r"
          ]
        },
        {
          "name": "stdout",
          "output_type": "stream",
          "text": [
            "Generating with greedy search...\n",
            "\n",
            "📊 Metrics (Epoch 7):\n",
            "├── TRAIN:\n",
            "│   ├── ce_loss_char: 1.3905\n",
            "│   ├── ce_loss_token: 6.4189\n",
            "│   ├── perplexity_char: 4.0168\n",
            "│   └── perplexity_token: 613.3515\n",
            "└── VAL:\n",
            "    ├── ce_loss_char: 1.3561\n",
            "    ├── ce_loss_token: 6.2570\n",
            "    ├── perplexity_char: 3.8808\n",
            "    └── perplexity_token: 521.6447\n",
            "└── TRAINING:\n",
            "    └── learning_rate: 0.000496\n"
          ]
        },
        {
          "name": "stderr",
          "output_type": "stream",
          "text": [
            "[Training LM]:   0%|          | 0/261 [00:00<?, ?it/s]/root/autodl-tmp/IDL-HW4/hw4lib/trainers/lm_trainer.py:122: FutureWarning: `torch.cuda.amp.GradScaler(args...)` is deprecated. Please use `torch.amp.GradScaler('cuda', args...)` instead.\n",
            "  self.scaler = torch.cuda.amp.GradScaler()\n",
            "                                                                                                                               \r"
          ]
        },
        {
          "name": "stdout",
          "output_type": "stream",
          "text": [
            "Generating with greedy search...\n",
            "\n",
            "📊 Metrics (Epoch 8):\n",
            "├── TRAIN:\n",
            "│   ├── ce_loss_char: 1.3659\n",
            "│   ├── ce_loss_token: 6.3054\n",
            "│   ├── perplexity_char: 3.9192\n",
            "│   └── perplexity_token: 547.5203\n",
            "└── VAL:\n",
            "    ├── ce_loss_char: 1.3360\n",
            "    ├── ce_loss_token: 6.1647\n",
            "    ├── perplexity_char: 3.8040\n",
            "    └── perplexity_token: 475.6544\n",
            "└── TRAINING:\n",
            "    └── learning_rate: 0.000494\n"
          ]
        },
        {
          "name": "stderr",
          "output_type": "stream",
          "text": [
            "[Training LM]:   0%|          | 0/261 [00:00<?, ?it/s]/root/autodl-tmp/IDL-HW4/hw4lib/trainers/lm_trainer.py:122: FutureWarning: `torch.cuda.amp.GradScaler(args...)` is deprecated. Please use `torch.amp.GradScaler('cuda', args...)` instead.\n",
            "  self.scaler = torch.cuda.amp.GradScaler()\n",
            "                                                                                                                               \r"
          ]
        },
        {
          "name": "stdout",
          "output_type": "stream",
          "text": [
            "Generating with greedy search...\n",
            "\n",
            "📊 Metrics (Epoch 9):\n",
            "├── TRAIN:\n",
            "│   ├── ce_loss_char: 1.3453\n",
            "│   ├── ce_loss_token: 6.2104\n",
            "│   ├── perplexity_char: 3.8394\n",
            "│   └── perplexity_token: 497.8864\n",
            "└── VAL:\n",
            "    ├── ce_loss_char: 1.3163\n",
            "    ├── ce_loss_token: 6.0736\n",
            "    ├── perplexity_char: 3.7296\n",
            "    └── perplexity_token: 434.2301\n",
            "└── TRAINING:\n",
            "    └── learning_rate: 0.000490\n"
          ]
        },
        {
          "name": "stderr",
          "output_type": "stream",
          "text": [
            "[Training LM]:   0%|          | 0/261 [00:00<?, ?it/s]/root/autodl-tmp/IDL-HW4/hw4lib/trainers/lm_trainer.py:122: FutureWarning: `torch.cuda.amp.GradScaler(args...)` is deprecated. Please use `torch.amp.GradScaler('cuda', args...)` instead.\n",
            "  self.scaler = torch.cuda.amp.GradScaler()\n",
            "                                                                                                                               \r"
          ]
        },
        {
          "name": "stdout",
          "output_type": "stream",
          "text": [
            "Generating with greedy search...\n",
            "\n",
            "📊 Metrics (Epoch 10):\n",
            "├── TRAIN:\n",
            "│   ├── ce_loss_char: 1.3446\n",
            "│   ├── ce_loss_token: 6.2069\n",
            "│   ├── perplexity_char: 3.8365\n",
            "│   └── perplexity_token: 496.1393\n",
            "└── VAL:\n",
            "    ├── ce_loss_char: 1.3145\n",
            "    ├── ce_loss_token: 6.0651\n",
            "    ├── perplexity_char: 3.7228\n",
            "    └── perplexity_token: 430.5662\n",
            "└── TRAINING:\n",
            "    └── learning_rate: 0.000485\n"
          ]
        },
        {
          "name": "stderr",
          "output_type": "stream",
          "text": [
            "[Training LM]:   0%|          | 0/261 [00:00<?, ?it/s]/root/autodl-tmp/IDL-HW4/hw4lib/trainers/lm_trainer.py:122: FutureWarning: `torch.cuda.amp.GradScaler(args...)` is deprecated. Please use `torch.amp.GradScaler('cuda', args...)` instead.\n",
            "  self.scaler = torch.cuda.amp.GradScaler()\n",
            "                                                                                                                               \r"
          ]
        },
        {
          "name": "stdout",
          "output_type": "stream",
          "text": [
            "Generating with greedy search...\n",
            "\n",
            "📊 Metrics (Epoch 11):\n",
            "├── TRAIN:\n",
            "│   ├── ce_loss_char: 1.3271\n",
            "│   ├── ce_loss_token: 6.1261\n",
            "│   ├── perplexity_char: 3.7699\n",
            "│   └── perplexity_token: 457.6429\n",
            "└── VAL:\n",
            "    ├── ce_loss_char: 1.3069\n",
            "    ├── ce_loss_token: 6.0301\n",
            "    ├── perplexity_char: 3.6947\n",
            "    └── perplexity_token: 415.7760\n",
            "└── TRAINING:\n",
            "    └── learning_rate: 0.000480\n"
          ]
        },
        {
          "name": "stderr",
          "output_type": "stream",
          "text": [
            "[Training LM]:   0%|          | 0/261 [00:00<?, ?it/s]/root/autodl-tmp/IDL-HW4/hw4lib/trainers/lm_trainer.py:122: FutureWarning: `torch.cuda.amp.GradScaler(args...)` is deprecated. Please use `torch.amp.GradScaler('cuda', args...)` instead.\n",
            "  self.scaler = torch.cuda.amp.GradScaler()\n",
            "                                                                                                                               \r"
          ]
        },
        {
          "name": "stdout",
          "output_type": "stream",
          "text": [
            "Generating with greedy search...\n",
            "\n",
            "📊 Metrics (Epoch 12):\n",
            "├── TRAIN:\n",
            "│   ├── ce_loss_char: 1.3259\n",
            "│   ├── ce_loss_token: 6.1208\n",
            "│   ├── perplexity_char: 3.7656\n",
            "│   └── perplexity_token: 455.2235\n",
            "└── VAL:\n",
            "    ├── ce_loss_char: 1.2941\n",
            "    ├── ce_loss_token: 5.9709\n",
            "    ├── perplexity_char: 3.6476\n",
            "    └── perplexity_token: 391.8767\n",
            "└── TRAINING:\n",
            "    └── learning_rate: 0.000474\n"
          ]
        },
        {
          "name": "stderr",
          "output_type": "stream",
          "text": [
            "[Training LM]:   0%|          | 0/261 [00:00<?, ?it/s]/root/autodl-tmp/IDL-HW4/hw4lib/trainers/lm_trainer.py:122: FutureWarning: `torch.cuda.amp.GradScaler(args...)` is deprecated. Please use `torch.amp.GradScaler('cuda', args...)` instead.\n",
            "  self.scaler = torch.cuda.amp.GradScaler()\n",
            "                                                                                                                               \r"
          ]
        },
        {
          "name": "stdout",
          "output_type": "stream",
          "text": [
            "Generating with greedy search...\n",
            "\n",
            "📊 Metrics (Epoch 13):\n",
            "├── TRAIN:\n",
            "│   ├── ce_loss_char: 1.3022\n",
            "│   ├── ce_loss_token: 6.0114\n",
            "│   ├── perplexity_char: 3.6774\n",
            "│   └── perplexity_token: 408.0422\n",
            "└── VAL:\n",
            "    ├── ce_loss_char: 1.2876\n",
            "    ├── ce_loss_token: 5.9411\n",
            "    ├── perplexity_char: 3.6241\n",
            "    └── perplexity_token: 380.3578\n",
            "└── TRAINING:\n",
            "    └── learning_rate: 0.000468\n"
          ]
        },
        {
          "name": "stderr",
          "output_type": "stream",
          "text": [
            "[Training LM]:   0%|          | 0/261 [00:00<?, ?it/s]/root/autodl-tmp/IDL-HW4/hw4lib/trainers/lm_trainer.py:122: FutureWarning: `torch.cuda.amp.GradScaler(args...)` is deprecated. Please use `torch.amp.GradScaler('cuda', args...)` instead.\n",
            "  self.scaler = torch.cuda.amp.GradScaler()\n",
            "                                                                                                                               \r"
          ]
        },
        {
          "name": "stdout",
          "output_type": "stream",
          "text": [
            "Generating with greedy search...\n",
            "\n",
            "📊 Metrics (Epoch 14):\n",
            "├── TRAIN:\n",
            "│   ├── ce_loss_char: 1.3017\n",
            "│   ├── ce_loss_token: 6.0090\n",
            "│   ├── perplexity_char: 3.6755\n",
            "│   └── perplexity_token: 407.0727\n",
            "└── VAL:\n",
            "    ├── ce_loss_char: 1.2799\n",
            "    ├── ce_loss_token: 5.9055\n",
            "    ├── perplexity_char: 3.5962\n",
            "    └── perplexity_token: 367.0607\n",
            "└── TRAINING:\n",
            "    └── learning_rate: 0.000460\n"
          ]
        },
        {
          "name": "stderr",
          "output_type": "stream",
          "text": [
            "[Training LM]:   0%|          | 0/261 [00:00<?, ?it/s]/root/autodl-tmp/IDL-HW4/hw4lib/trainers/lm_trainer.py:122: FutureWarning: `torch.cuda.amp.GradScaler(args...)` is deprecated. Please use `torch.amp.GradScaler('cuda', args...)` instead.\n",
            "  self.scaler = torch.cuda.amp.GradScaler()\n",
            "                                                                                                                               \r"
          ]
        },
        {
          "name": "stdout",
          "output_type": "stream",
          "text": [
            "Generating with greedy search...\n",
            "\n",
            "📊 Metrics (Epoch 15):\n",
            "├── TRAIN:\n",
            "│   ├── ce_loss_char: 1.3048\n",
            "│   ├── ce_loss_token: 6.0234\n",
            "│   ├── perplexity_char: 3.6870\n",
            "│   └── perplexity_token: 412.9740\n",
            "└── VAL:\n",
            "    ├── ce_loss_char: 1.2751\n",
            "    ├── ce_loss_token: 5.8837\n",
            "    ├── perplexity_char: 3.5792\n",
            "    └── perplexity_token: 359.1284\n",
            "└── TRAINING:\n",
            "    └── learning_rate: 0.000452\n"
          ]
        },
        {
          "name": "stderr",
          "output_type": "stream",
          "text": [
            "[Training LM]:   0%|          | 0/261 [00:00<?, ?it/s]/root/autodl-tmp/IDL-HW4/hw4lib/trainers/lm_trainer.py:122: FutureWarning: `torch.cuda.amp.GradScaler(args...)` is deprecated. Please use `torch.amp.GradScaler('cuda', args...)` instead.\n",
            "  self.scaler = torch.cuda.amp.GradScaler()\n",
            "                                                                                                                               \r"
          ]
        },
        {
          "name": "stdout",
          "output_type": "stream",
          "text": [
            "Generating with greedy search...\n",
            "\n",
            "📊 Metrics (Epoch 16):\n",
            "├── TRAIN:\n",
            "│   ├── ce_loss_char: 1.2867\n",
            "│   ├── ce_loss_token: 5.9397\n",
            "│   ├── perplexity_char: 3.6207\n",
            "│   └── perplexity_token: 379.8063\n",
            "└── VAL:\n",
            "    ├── ce_loss_char: 1.2572\n",
            "    ├── ce_loss_token: 5.8008\n",
            "    ├── perplexity_char: 3.5155\n",
            "    └── perplexity_token: 330.5739\n",
            "└── TRAINING:\n",
            "    └── learning_rate: 0.000444\n"
          ]
        },
        {
          "name": "stderr",
          "output_type": "stream",
          "text": [
            "[Training LM]:   0%|          | 0/261 [00:00<?, ?it/s]/root/autodl-tmp/IDL-HW4/hw4lib/trainers/lm_trainer.py:122: FutureWarning: `torch.cuda.amp.GradScaler(args...)` is deprecated. Please use `torch.amp.GradScaler('cuda', args...)` instead.\n",
            "  self.scaler = torch.cuda.amp.GradScaler()\n",
            "                                                                                                                               \r"
          ]
        },
        {
          "name": "stdout",
          "output_type": "stream",
          "text": [
            "Generating with greedy search...\n",
            "\n",
            "📊 Metrics (Epoch 17):\n",
            "├── TRAIN:\n",
            "│   ├── ce_loss_char: 1.2794\n",
            "│   ├── ce_loss_token: 5.9059\n",
            "│   ├── perplexity_char: 3.5943\n",
            "│   └── perplexity_token: 367.2018\n",
            "└── VAL:\n",
            "    ├── ce_loss_char: 1.2552\n",
            "    ├── ce_loss_token: 5.7915\n",
            "    ├── perplexity_char: 3.5084\n",
            "    └── perplexity_token: 327.4982\n",
            "└── TRAINING:\n",
            "    └── learning_rate: 0.000434\n"
          ]
        },
        {
          "name": "stderr",
          "output_type": "stream",
          "text": [
            "[Training LM]:   0%|          | 0/261 [00:00<?, ?it/s]/root/autodl-tmp/IDL-HW4/hw4lib/trainers/lm_trainer.py:122: FutureWarning: `torch.cuda.amp.GradScaler(args...)` is deprecated. Please use `torch.amp.GradScaler('cuda', args...)` instead.\n",
            "  self.scaler = torch.cuda.amp.GradScaler()\n",
            "                                                                                                                               \r"
          ]
        },
        {
          "name": "stdout",
          "output_type": "stream",
          "text": [
            "Generating with greedy search...\n",
            "\n",
            "📊 Metrics (Epoch 18):\n",
            "├── TRAIN:\n",
            "│   ├── ce_loss_char: 1.2682\n",
            "│   ├── ce_loss_token: 5.8542\n",
            "│   ├── perplexity_char: 3.5543\n",
            "│   └── perplexity_token: 348.7114\n",
            "└── VAL:\n",
            "    ├── ce_loss_char: 1.2472\n",
            "    ├── ce_loss_token: 5.7547\n",
            "    ├── perplexity_char: 3.4806\n",
            "    └── perplexity_token: 315.6816\n",
            "└── TRAINING:\n",
            "    └── learning_rate: 0.000424\n"
          ]
        },
        {
          "name": "stderr",
          "output_type": "stream",
          "text": [
            "[Training LM]:   0%|          | 0/261 [00:00<?, ?it/s]/root/autodl-tmp/IDL-HW4/hw4lib/trainers/lm_trainer.py:122: FutureWarning: `torch.cuda.amp.GradScaler(args...)` is deprecated. Please use `torch.amp.GradScaler('cuda', args...)` instead.\n",
            "  self.scaler = torch.cuda.amp.GradScaler()\n",
            "                                                                                                                               \r"
          ]
        },
        {
          "name": "stdout",
          "output_type": "stream",
          "text": [
            "Generating with greedy search...\n",
            "\n",
            "📊 Metrics (Epoch 19):\n",
            "├── TRAIN:\n",
            "│   ├── ce_loss_char: 1.2790\n",
            "│   ├── ce_loss_token: 5.9044\n",
            "│   ├── perplexity_char: 3.5932\n",
            "│   └── perplexity_token: 366.6583\n",
            "└── VAL:\n",
            "    ├── ce_loss_char: 1.2427\n",
            "    ├── ce_loss_token: 5.7341\n",
            "    ├── perplexity_char: 3.4650\n",
            "    └── perplexity_token: 309.2296\n",
            "└── TRAINING:\n",
            "    └── learning_rate: 0.000414\n"
          ]
        },
        {
          "name": "stderr",
          "output_type": "stream",
          "text": [
            "[Training LM]:   0%|          | 0/261 [00:00<?, ?it/s]/root/autodl-tmp/IDL-HW4/hw4lib/trainers/lm_trainer.py:122: FutureWarning: `torch.cuda.amp.GradScaler(args...)` is deprecated. Please use `torch.amp.GradScaler('cuda', args...)` instead.\n",
            "  self.scaler = torch.cuda.amp.GradScaler()\n",
            "                                                                                                                               \r"
          ]
        },
        {
          "name": "stdout",
          "output_type": "stream",
          "text": [
            "Generating with greedy search...\n",
            "\n",
            "📊 Metrics (Epoch 20):\n",
            "├── TRAIN:\n",
            "│   ├── ce_loss_char: 1.2527\n",
            "│   ├── ce_loss_token: 5.7829\n",
            "│   ├── perplexity_char: 3.4998\n",
            "│   └── perplexity_token: 324.6926\n",
            "└── VAL:\n",
            "    ├── ce_loss_char: 1.2336\n",
            "    ├── ce_loss_token: 5.6922\n",
            "    ├── perplexity_char: 3.4337\n",
            "    └── perplexity_token: 296.5457\n",
            "└── TRAINING:\n",
            "    └── learning_rate: 0.000403\n"
          ]
        },
        {
          "name": "stderr",
          "output_type": "stream",
          "text": [
            "[Training LM]:   0%|          | 0/261 [00:00<?, ?it/s]/root/autodl-tmp/IDL-HW4/hw4lib/trainers/lm_trainer.py:122: FutureWarning: `torch.cuda.amp.GradScaler(args...)` is deprecated. Please use `torch.amp.GradScaler('cuda', args...)` instead.\n",
            "  self.scaler = torch.cuda.amp.GradScaler()\n",
            "                                                                                                                               \r"
          ]
        },
        {
          "name": "stdout",
          "output_type": "stream",
          "text": [
            "Generating with greedy search...\n",
            "\n",
            "📊 Metrics (Epoch 21):\n",
            "├── TRAIN:\n",
            "│   ├── ce_loss_char: 1.2553\n",
            "│   ├── ce_loss_token: 5.7948\n",
            "│   ├── perplexity_char: 3.5089\n",
            "│   └── perplexity_token: 328.5880\n",
            "└── VAL:\n",
            "    ├── ce_loss_char: 1.2289\n",
            "    ├── ce_loss_token: 5.6705\n",
            "    ├── perplexity_char: 3.4176\n",
            "    └── perplexity_token: 290.1867\n",
            "└── TRAINING:\n",
            "    └── learning_rate: 0.000391\n"
          ]
        },
        {
          "name": "stderr",
          "output_type": "stream",
          "text": [
            "[Training LM]:   0%|          | 0/261 [00:00<?, ?it/s]/root/autodl-tmp/IDL-HW4/hw4lib/trainers/lm_trainer.py:122: FutureWarning: `torch.cuda.amp.GradScaler(args...)` is deprecated. Please use `torch.amp.GradScaler('cuda', args...)` instead.\n",
            "  self.scaler = torch.cuda.amp.GradScaler()\n",
            "                                                                                                                               \r"
          ]
        },
        {
          "name": "stdout",
          "output_type": "stream",
          "text": [
            "Generating with greedy search...\n",
            "\n",
            "📊 Metrics (Epoch 22):\n",
            "├── TRAIN:\n",
            "│   ├── ce_loss_char: 1.2461\n",
            "│   ├── ce_loss_token: 5.7525\n",
            "│   ├── perplexity_char: 3.4768\n",
            "│   └── perplexity_token: 314.9692\n",
            "└── VAL:\n",
            "    ├── ce_loss_char: 1.2271\n",
            "    ├── ce_loss_token: 5.6618\n",
            "    ├── perplexity_char: 3.4112\n",
            "    └── perplexity_token: 287.6750\n",
            "└── TRAINING:\n",
            "    └── learning_rate: 0.000379\n"
          ]
        },
        {
          "name": "stderr",
          "output_type": "stream",
          "text": [
            "[Training LM]:   0%|          | 0/261 [00:00<?, ?it/s]/root/autodl-tmp/IDL-HW4/hw4lib/trainers/lm_trainer.py:122: FutureWarning: `torch.cuda.amp.GradScaler(args...)` is deprecated. Please use `torch.amp.GradScaler('cuda', args...)` instead.\n",
            "  self.scaler = torch.cuda.amp.GradScaler()\n",
            "                                                                                                                               \r"
          ]
        },
        {
          "name": "stdout",
          "output_type": "stream",
          "text": [
            "Generating with greedy search...\n",
            "\n",
            "📊 Metrics (Epoch 23):\n",
            "├── TRAIN:\n",
            "│   ├── ce_loss_char: 1.2463\n",
            "│   ├── ce_loss_token: 5.7532\n",
            "│   ├── perplexity_char: 3.4774\n",
            "│   └── perplexity_token: 315.2118\n",
            "└── VAL:\n",
            "    ├── ce_loss_char: 1.2252\n",
            "    ├── ce_loss_token: 5.6533\n",
            "    ├── perplexity_char: 3.4049\n",
            "    └── perplexity_token: 285.2404\n",
            "└── TRAINING:\n",
            "    └── learning_rate: 0.000367\n"
          ]
        },
        {
          "name": "stderr",
          "output_type": "stream",
          "text": [
            "[Training LM]:   0%|          | 0/261 [00:00<?, ?it/s]/root/autodl-tmp/IDL-HW4/hw4lib/trainers/lm_trainer.py:122: FutureWarning: `torch.cuda.amp.GradScaler(args...)` is deprecated. Please use `torch.amp.GradScaler('cuda', args...)` instead.\n",
            "  self.scaler = torch.cuda.amp.GradScaler()\n",
            "                                                                                                                               \r"
          ]
        },
        {
          "name": "stdout",
          "output_type": "stream",
          "text": [
            "Generating with greedy search...\n",
            "\n",
            "📊 Metrics (Epoch 24):\n",
            "├── TRAIN:\n",
            "│   ├── ce_loss_char: 1.2384\n",
            "│   ├── ce_loss_token: 5.7167\n",
            "│   ├── perplexity_char: 3.4500\n",
            "│   └── perplexity_token: 303.8962\n",
            "└── VAL:\n",
            "    ├── ce_loss_char: 1.2169\n",
            "    ├── ce_loss_token: 5.6149\n",
            "    ├── perplexity_char: 3.3767\n",
            "    └── perplexity_token: 274.4788\n",
            "└── TRAINING:\n",
            "    └── learning_rate: 0.000354\n"
          ]
        },
        {
          "name": "stderr",
          "output_type": "stream",
          "text": [
            "[Training LM]:   0%|          | 0/261 [00:00<?, ?it/s]/root/autodl-tmp/IDL-HW4/hw4lib/trainers/lm_trainer.py:122: FutureWarning: `torch.cuda.amp.GradScaler(args...)` is deprecated. Please use `torch.amp.GradScaler('cuda', args...)` instead.\n",
            "  self.scaler = torch.cuda.amp.GradScaler()\n",
            "                                                                                                                               \r"
          ]
        },
        {
          "name": "stdout",
          "output_type": "stream",
          "text": [
            "Generating with greedy search...\n",
            "\n",
            "📊 Metrics (Epoch 25):\n",
            "├── TRAIN:\n",
            "│   ├── ce_loss_char: 1.2325\n",
            "│   ├── ce_loss_token: 5.6897\n",
            "│   ├── perplexity_char: 3.4299\n",
            "│   └── perplexity_token: 295.8045\n",
            "└── VAL:\n",
            "    ├── ce_loss_char: 1.2136\n",
            "    ├── ce_loss_token: 5.5995\n",
            "    ├── perplexity_char: 3.3655\n",
            "    └── perplexity_token: 270.3035\n",
            "└── TRAINING:\n",
            "    └── learning_rate: 0.000341\n"
          ]
        },
        {
          "name": "stderr",
          "output_type": "stream",
          "text": [
            "[Training LM]:   0%|          | 0/261 [00:00<?, ?it/s]/root/autodl-tmp/IDL-HW4/hw4lib/trainers/lm_trainer.py:122: FutureWarning: `torch.cuda.amp.GradScaler(args...)` is deprecated. Please use `torch.amp.GradScaler('cuda', args...)` instead.\n",
            "  self.scaler = torch.cuda.amp.GradScaler()\n",
            "                                                                                                                               \r"
          ]
        },
        {
          "name": "stdout",
          "output_type": "stream",
          "text": [
            "Generating with greedy search...\n",
            "\n",
            "📊 Metrics (Epoch 26):\n",
            "├── TRAIN:\n",
            "│   ├── ce_loss_char: 1.2277\n",
            "│   ├── ce_loss_token: 5.6676\n",
            "│   ├── perplexity_char: 3.4135\n",
            "│   └── perplexity_token: 289.3499\n",
            "└── VAL:\n",
            "    ├── ce_loss_char: 1.2142\n",
            "    ├── ce_loss_token: 5.6026\n",
            "    ├── perplexity_char: 3.3677\n",
            "    └── perplexity_token: 271.1170\n",
            "└── TRAINING:\n",
            "    └── learning_rate: 0.000327\n"
          ]
        },
        {
          "name": "stderr",
          "output_type": "stream",
          "text": [
            "[Training LM]:   0%|          | 0/261 [00:00<?, ?it/s]/root/autodl-tmp/IDL-HW4/hw4lib/trainers/lm_trainer.py:122: FutureWarning: `torch.cuda.amp.GradScaler(args...)` is deprecated. Please use `torch.amp.GradScaler('cuda', args...)` instead.\n",
            "  self.scaler = torch.cuda.amp.GradScaler()\n",
            "                                                                                                                               \r"
          ]
        },
        {
          "name": "stdout",
          "output_type": "stream",
          "text": [
            "Generating with greedy search...\n",
            "\n",
            "📊 Metrics (Epoch 27):\n",
            "├── TRAIN:\n",
            "│   ├── ce_loss_char: 1.2252\n",
            "│   ├── ce_loss_token: 5.6557\n",
            "│   ├── perplexity_char: 3.4047\n",
            "│   └── perplexity_token: 285.9296\n",
            "└── VAL:\n",
            "    ├── ce_loss_char: 1.2098\n",
            "    ├── ce_loss_token: 5.5823\n",
            "    ├── perplexity_char: 3.3529\n",
            "    └── perplexity_token: 265.6910\n",
            "└── TRAINING:\n",
            "    └── learning_rate: 0.000314\n"
          ]
        },
        {
          "name": "stderr",
          "output_type": "stream",
          "text": [
            "[Training LM]:   0%|          | 0/261 [00:00<?, ?it/s]/root/autodl-tmp/IDL-HW4/hw4lib/trainers/lm_trainer.py:122: FutureWarning: `torch.cuda.amp.GradScaler(args...)` is deprecated. Please use `torch.amp.GradScaler('cuda', args...)` instead.\n",
            "  self.scaler = torch.cuda.amp.GradScaler()\n",
            "                                                                                                                               \r"
          ]
        },
        {
          "name": "stdout",
          "output_type": "stream",
          "text": [
            "Generating with greedy search...\n",
            "\n",
            "📊 Metrics (Epoch 28):\n",
            "├── TRAIN:\n",
            "│   ├── ce_loss_char: 1.2147\n",
            "│   ├── ce_loss_token: 5.6075\n",
            "│   ├── perplexity_char: 3.3693\n",
            "│   └── perplexity_token: 272.4634\n",
            "└── VAL:\n",
            "    ├── ce_loss_char: 1.2049\n",
            "    ├── ce_loss_token: 5.5593\n",
            "    ├── perplexity_char: 3.3363\n",
            "    └── perplexity_token: 259.6514\n",
            "└── TRAINING:\n",
            "    └── learning_rate: 0.000300\n"
          ]
        },
        {
          "name": "stderr",
          "output_type": "stream",
          "text": [
            "[Training LM]:   0%|          | 0/261 [00:00<?, ?it/s]/root/autodl-tmp/IDL-HW4/hw4lib/trainers/lm_trainer.py:122: FutureWarning: `torch.cuda.amp.GradScaler(args...)` is deprecated. Please use `torch.amp.GradScaler('cuda', args...)` instead.\n",
            "  self.scaler = torch.cuda.amp.GradScaler()\n",
            "                                                                                                                               \r"
          ]
        },
        {
          "name": "stdout",
          "output_type": "stream",
          "text": [
            "Generating with greedy search...\n",
            "\n",
            "📊 Metrics (Epoch 29):\n",
            "├── TRAIN:\n",
            "│   ├── ce_loss_char: 1.2142\n",
            "│   ├── ce_loss_token: 5.6050\n",
            "│   ├── perplexity_char: 3.3675\n",
            "│   └── perplexity_token: 271.7786\n",
            "└── VAL:\n",
            "    ├── ce_loss_char: 1.2030\n",
            "    ├── ce_loss_token: 5.5506\n",
            "    ├── perplexity_char: 3.3299\n",
            "    └── perplexity_token: 257.3879\n",
            "└── TRAINING:\n",
            "    └── learning_rate: 0.000286\n"
          ]
        },
        {
          "name": "stderr",
          "output_type": "stream",
          "text": [
            "[Training LM]:   0%|          | 0/261 [00:00<?, ?it/s]/root/autodl-tmp/IDL-HW4/hw4lib/trainers/lm_trainer.py:122: FutureWarning: `torch.cuda.amp.GradScaler(args...)` is deprecated. Please use `torch.amp.GradScaler('cuda', args...)` instead.\n",
            "  self.scaler = torch.cuda.amp.GradScaler()\n",
            "                                                                                                                               \r"
          ]
        },
        {
          "name": "stdout",
          "output_type": "stream",
          "text": [
            "Generating with greedy search...\n",
            "\n",
            "📊 Metrics (Epoch 30):\n",
            "├── TRAIN:\n",
            "│   ├── ce_loss_char: 1.2104\n",
            "│   ├── ce_loss_token: 5.5874\n",
            "│   ├── perplexity_char: 3.3547\n",
            "│   └── perplexity_token: 267.0391\n",
            "└── VAL:\n",
            "    ├── ce_loss_char: 1.2027\n",
            "    ├── ce_loss_token: 5.5492\n",
            "    ├── perplexity_char: 3.3290\n",
            "    └── perplexity_token: 257.0420\n",
            "└── TRAINING:\n",
            "    └── learning_rate: 0.000271\n"
          ]
        },
        {
          "name": "stderr",
          "output_type": "stream",
          "text": [
            "[Training LM]:   0%|          | 0/261 [00:00<?, ?it/s]/root/autodl-tmp/IDL-HW4/hw4lib/trainers/lm_trainer.py:122: FutureWarning: `torch.cuda.amp.GradScaler(args...)` is deprecated. Please use `torch.amp.GradScaler('cuda', args...)` instead.\n",
            "  self.scaler = torch.cuda.amp.GradScaler()\n",
            "                                                                                                                               \r"
          ]
        },
        {
          "name": "stdout",
          "output_type": "stream",
          "text": [
            "Generating with greedy search...\n",
            "\n",
            "📊 Metrics (Epoch 31):\n",
            "├── TRAIN:\n",
            "│   ├── ce_loss_char: 1.2105\n",
            "│   ├── ce_loss_token: 5.5878\n",
            "│   ├── perplexity_char: 3.3550\n",
            "│   └── perplexity_token: 267.1515\n",
            "└── VAL:\n",
            "    ├── ce_loss_char: 1.2003\n",
            "    ├── ce_loss_token: 5.5384\n",
            "    ├── perplexity_char: 3.3212\n",
            "    └── perplexity_token: 254.2784\n",
            "└── TRAINING:\n",
            "    └── learning_rate: 0.000257\n"
          ]
        },
        {
          "name": "stderr",
          "output_type": "stream",
          "text": [
            "[Training LM]:   0%|          | 0/261 [00:00<?, ?it/s]/root/autodl-tmp/IDL-HW4/hw4lib/trainers/lm_trainer.py:122: FutureWarning: `torch.cuda.amp.GradScaler(args...)` is deprecated. Please use `torch.amp.GradScaler('cuda', args...)` instead.\n",
            "  self.scaler = torch.cuda.amp.GradScaler()\n",
            "                                                                                                                               \r"
          ]
        },
        {
          "name": "stdout",
          "output_type": "stream",
          "text": [
            "Generating with greedy search...\n",
            "\n",
            "📊 Metrics (Epoch 32):\n",
            "├── TRAIN:\n",
            "│   ├── ce_loss_char: 1.2128\n",
            "│   ├── ce_loss_token: 5.5988\n",
            "│   ├── perplexity_char: 3.3630\n",
            "│   └── perplexity_token: 270.1136\n",
            "└── VAL:\n",
            "    ├── ce_loss_char: 1.1961\n",
            "    ├── ce_loss_token: 5.5188\n",
            "    ├── perplexity_char: 3.3070\n",
            "    └── perplexity_token: 249.3232\n",
            "└── TRAINING:\n",
            "    └── learning_rate: 0.000243\n"
          ]
        },
        {
          "name": "stderr",
          "output_type": "stream",
          "text": [
            "[Training LM]:   0%|          | 0/261 [00:00<?, ?it/s]/root/autodl-tmp/IDL-HW4/hw4lib/trainers/lm_trainer.py:122: FutureWarning: `torch.cuda.amp.GradScaler(args...)` is deprecated. Please use `torch.amp.GradScaler('cuda', args...)` instead.\n",
            "  self.scaler = torch.cuda.amp.GradScaler()\n",
            "                                                                                                                               \r"
          ]
        },
        {
          "name": "stdout",
          "output_type": "stream",
          "text": [
            "Generating with greedy search...\n",
            "\n",
            "📊 Metrics (Epoch 33):\n",
            "├── TRAIN:\n",
            "│   ├── ce_loss_char: 1.1979\n",
            "│   ├── ce_loss_token: 5.5297\n",
            "│   ├── perplexity_char: 3.3130\n",
            "│   └── perplexity_token: 252.0563\n",
            "└── VAL:\n",
            "    ├── ce_loss_char: 1.1924\n",
            "    ├── ce_loss_token: 5.5019\n",
            "    ├── perplexity_char: 3.2950\n",
            "    └── perplexity_token: 245.1568\n",
            "└── TRAINING:\n",
            "    └── learning_rate: 0.000229\n"
          ]
        },
        {
          "name": "stderr",
          "output_type": "stream",
          "text": [
            "[Training LM]:   0%|          | 0/261 [00:00<?, ?it/s]/root/autodl-tmp/IDL-HW4/hw4lib/trainers/lm_trainer.py:122: FutureWarning: `torch.cuda.amp.GradScaler(args...)` is deprecated. Please use `torch.amp.GradScaler('cuda', args...)` instead.\n",
            "  self.scaler = torch.cuda.amp.GradScaler()\n",
            "                                                                                                                               \r"
          ]
        },
        {
          "name": "stdout",
          "output_type": "stream",
          "text": [
            "Generating with greedy search...\n",
            "\n",
            "📊 Metrics (Epoch 34):\n",
            "├── TRAIN:\n",
            "│   ├── ce_loss_char: 1.2017\n",
            "│   ├── ce_loss_token: 5.5474\n",
            "│   ├── perplexity_char: 3.3258\n",
            "│   └── perplexity_token: 256.5800\n",
            "└── VAL:\n",
            "    ├── ce_loss_char: 1.1922\n",
            "    ├── ce_loss_token: 5.5011\n",
            "    ├── perplexity_char: 3.2944\n",
            "    └── perplexity_token: 244.9700\n",
            "└── TRAINING:\n",
            "    └── learning_rate: 0.000214\n"
          ]
        },
        {
          "name": "stderr",
          "output_type": "stream",
          "text": [
            "[Training LM]:   0%|          | 0/261 [00:00<?, ?it/s]/root/autodl-tmp/IDL-HW4/hw4lib/trainers/lm_trainer.py:122: FutureWarning: `torch.cuda.amp.GradScaler(args...)` is deprecated. Please use `torch.amp.GradScaler('cuda', args...)` instead.\n",
            "  self.scaler = torch.cuda.amp.GradScaler()\n",
            "                                                                                                                               \r"
          ]
        },
        {
          "name": "stdout",
          "output_type": "stream",
          "text": [
            "Generating with greedy search...\n",
            "\n",
            "📊 Metrics (Epoch 35):\n",
            "├── TRAIN:\n",
            "│   ├── ce_loss_char: 1.1960\n",
            "│   ├── ce_loss_token: 5.5213\n",
            "│   ├── perplexity_char: 3.3070\n",
            "│   └── perplexity_token: 249.9590\n",
            "└── VAL:\n",
            "    ├── ce_loss_char: 1.1899\n",
            "    ├── ce_loss_token: 5.4905\n",
            "    ├── perplexity_char: 3.2869\n",
            "    └── perplexity_token: 242.3842\n",
            "└── TRAINING:\n",
            "    └── learning_rate: 0.000200\n"
          ]
        },
        {
          "name": "stderr",
          "output_type": "stream",
          "text": [
            "[Training LM]:   0%|          | 0/261 [00:00<?, ?it/s]/root/autodl-tmp/IDL-HW4/hw4lib/trainers/lm_trainer.py:122: FutureWarning: `torch.cuda.amp.GradScaler(args...)` is deprecated. Please use `torch.amp.GradScaler('cuda', args...)` instead.\n",
            "  self.scaler = torch.cuda.amp.GradScaler()\n",
            "                                                                                                                               \r"
          ]
        },
        {
          "name": "stdout",
          "output_type": "stream",
          "text": [
            "Generating with greedy search...\n",
            "\n",
            "📊 Metrics (Epoch 36):\n",
            "├── TRAIN:\n",
            "│   ├── ce_loss_char: 1.1979\n",
            "│   ├── ce_loss_token: 5.5298\n",
            "│   ├── perplexity_char: 3.3131\n",
            "│   └── perplexity_token: 252.0912\n",
            "└── VAL:\n",
            "    ├── ce_loss_char: 1.1875\n",
            "    ├── ce_loss_token: 5.4793\n",
            "    ├── perplexity_char: 3.2789\n",
            "    └── perplexity_token: 239.6825\n",
            "└── TRAINING:\n",
            "    └── learning_rate: 0.000186\n"
          ]
        },
        {
          "name": "stderr",
          "output_type": "stream",
          "text": [
            "[Training LM]:   0%|          | 0/261 [00:00<?, ?it/s]/root/autodl-tmp/IDL-HW4/hw4lib/trainers/lm_trainer.py:122: FutureWarning: `torch.cuda.amp.GradScaler(args...)` is deprecated. Please use `torch.amp.GradScaler('cuda', args...)` instead.\n",
            "  self.scaler = torch.cuda.amp.GradScaler()\n",
            "                                                                                                                               \r"
          ]
        },
        {
          "name": "stdout",
          "output_type": "stream",
          "text": [
            "Generating with greedy search...\n",
            "\n",
            "📊 Metrics (Epoch 37):\n",
            "├── TRAIN:\n",
            "│   ├── ce_loss_char: 1.1908\n",
            "│   ├── ce_loss_token: 5.4971\n",
            "│   ├── perplexity_char: 3.2897\n",
            "│   └── perplexity_token: 243.9924\n",
            "└── VAL:\n",
            "    ├── ce_loss_char: 1.1868\n",
            "    ├── ce_loss_token: 5.4759\n",
            "    ├── perplexity_char: 3.2765\n",
            "    └── perplexity_token: 238.8582\n",
            "└── TRAINING:\n",
            "    └── learning_rate: 0.000173\n"
          ]
        },
        {
          "name": "stderr",
          "output_type": "stream",
          "text": [
            "[Training LM]:   0%|          | 0/261 [00:00<?, ?it/s]/root/autodl-tmp/IDL-HW4/hw4lib/trainers/lm_trainer.py:122: FutureWarning: `torch.cuda.amp.GradScaler(args...)` is deprecated. Please use `torch.amp.GradScaler('cuda', args...)` instead.\n",
            "  self.scaler = torch.cuda.amp.GradScaler()\n",
            "                                                                                                                               \r"
          ]
        },
        {
          "name": "stdout",
          "output_type": "stream",
          "text": [
            "Generating with greedy search...\n",
            "\n",
            "📊 Metrics (Epoch 38):\n",
            "├── TRAIN:\n",
            "│   ├── ce_loss_char: 1.1918\n",
            "│   ├── ce_loss_token: 5.5019\n",
            "│   ├── perplexity_char: 3.2931\n",
            "│   └── perplexity_token: 245.1485\n",
            "└── VAL:\n",
            "    ├── ce_loss_char: 1.1866\n",
            "    ├── ce_loss_token: 5.4750\n",
            "    ├── perplexity_char: 3.2758\n",
            "    └── perplexity_token: 238.6388\n",
            "└── TRAINING:\n",
            "    └── learning_rate: 0.000159\n"
          ]
        },
        {
          "name": "stderr",
          "output_type": "stream",
          "text": [
            "[Training LM]:   0%|          | 0/261 [00:00<?, ?it/s]/root/autodl-tmp/IDL-HW4/hw4lib/trainers/lm_trainer.py:122: FutureWarning: `torch.cuda.amp.GradScaler(args...)` is deprecated. Please use `torch.amp.GradScaler('cuda', args...)` instead.\n",
            "  self.scaler = torch.cuda.amp.GradScaler()\n",
            "                                                                                                                               \r"
          ]
        },
        {
          "name": "stdout",
          "output_type": "stream",
          "text": [
            "Generating with greedy search...\n",
            "\n",
            "📊 Metrics (Epoch 39):\n",
            "├── TRAIN:\n",
            "│   ├── ce_loss_char: 1.1935\n",
            "│   ├── ce_loss_token: 5.5096\n",
            "│   ├── perplexity_char: 3.2987\n",
            "│   └── perplexity_token: 247.0592\n",
            "└── VAL:\n",
            "    ├── ce_loss_char: 1.1874\n",
            "    ├── ce_loss_token: 5.4788\n",
            "    ├── perplexity_char: 3.2785\n",
            "    └── perplexity_token: 239.5490\n",
            "└── TRAINING:\n",
            "    └── learning_rate: 0.000146\n"
          ]
        },
        {
          "name": "stderr",
          "output_type": "stream",
          "text": [
            "[Training LM]:   0%|          | 0/261 [00:00<?, ?it/s]/root/autodl-tmp/IDL-HW4/hw4lib/trainers/lm_trainer.py:122: FutureWarning: `torch.cuda.amp.GradScaler(args...)` is deprecated. Please use `torch.amp.GradScaler('cuda', args...)` instead.\n",
            "  self.scaler = torch.cuda.amp.GradScaler()\n",
            "                                                                                                                               \r"
          ]
        },
        {
          "name": "stdout",
          "output_type": "stream",
          "text": [
            "Generating with greedy search...\n",
            "\n",
            "📊 Metrics (Epoch 40):\n",
            "├── TRAIN:\n",
            "│   ├── ce_loss_char: 1.1845\n",
            "│   ├── ce_loss_token: 5.4679\n",
            "│   ├── perplexity_char: 3.2690\n",
            "│   └── perplexity_token: 236.9600\n",
            "└── VAL:\n",
            "    ├── ce_loss_char: 1.1833\n",
            "    ├── ce_loss_token: 5.4600\n",
            "    ├── perplexity_char: 3.2652\n",
            "    └── perplexity_token: 235.0913\n",
            "└── TRAINING:\n",
            "    └── learning_rate: 0.000133\n"
          ]
        },
        {
          "name": "stderr",
          "output_type": "stream",
          "text": [
            "[Training LM]:   0%|          | 0/261 [00:00<?, ?it/s]/root/autodl-tmp/IDL-HW4/hw4lib/trainers/lm_trainer.py:122: FutureWarning: `torch.cuda.amp.GradScaler(args...)` is deprecated. Please use `torch.amp.GradScaler('cuda', args...)` instead.\n",
            "  self.scaler = torch.cuda.amp.GradScaler()\n",
            "                                                                                                                               \r"
          ]
        },
        {
          "name": "stdout",
          "output_type": "stream",
          "text": [
            "Generating with greedy search...\n",
            "\n",
            "📊 Metrics (Epoch 41):\n",
            "├── TRAIN:\n",
            "│   ├── ce_loss_char: 1.1860\n",
            "│   ├── ce_loss_token: 5.4751\n",
            "│   ├── perplexity_char: 3.2741\n",
            "│   └── perplexity_token: 238.6791\n",
            "└── VAL:\n",
            "    ├── ce_loss_char: 1.1820\n",
            "    ├── ce_loss_token: 5.4539\n",
            "    ├── perplexity_char: 3.2609\n",
            "    └── perplexity_token: 233.6707\n",
            "└── TRAINING:\n",
            "    └── learning_rate: 0.000121\n"
          ]
        },
        {
          "name": "stderr",
          "output_type": "stream",
          "text": [
            "[Training LM]:   0%|          | 0/261 [00:00<?, ?it/s]/root/autodl-tmp/IDL-HW4/hw4lib/trainers/lm_trainer.py:122: FutureWarning: `torch.cuda.amp.GradScaler(args...)` is deprecated. Please use `torch.amp.GradScaler('cuda', args...)` instead.\n",
            "  self.scaler = torch.cuda.amp.GradScaler()\n",
            "                                                                                                                               \r"
          ]
        },
        {
          "name": "stdout",
          "output_type": "stream",
          "text": [
            "Generating with greedy search...\n",
            "\n",
            "📊 Metrics (Epoch 42):\n",
            "├── TRAIN:\n",
            "│   ├── ce_loss_char: 1.1833\n",
            "│   ├── ce_loss_token: 5.4625\n",
            "│   ├── perplexity_char: 3.2651\n",
            "│   └── perplexity_token: 235.6756\n",
            "└── VAL:\n",
            "    ├── ce_loss_char: 1.1810\n",
            "    ├── ce_loss_token: 5.4493\n",
            "    ├── perplexity_char: 3.2576\n",
            "    └── perplexity_token: 232.5899\n",
            "└── TRAINING:\n",
            "    └── learning_rate: 0.000109\n"
          ]
        },
        {
          "name": "stderr",
          "output_type": "stream",
          "text": [
            "[Training LM]:   0%|          | 0/261 [00:00<?, ?it/s]/root/autodl-tmp/IDL-HW4/hw4lib/trainers/lm_trainer.py:122: FutureWarning: `torch.cuda.amp.GradScaler(args...)` is deprecated. Please use `torch.amp.GradScaler('cuda', args...)` instead.\n",
            "  self.scaler = torch.cuda.amp.GradScaler()\n",
            "                                                                                                                               \r"
          ]
        },
        {
          "name": "stdout",
          "output_type": "stream",
          "text": [
            "Generating with greedy search...\n",
            "\n",
            "📊 Metrics (Epoch 43):\n",
            "├── TRAIN:\n",
            "│   ├── ce_loss_char: 1.1860\n",
            "│   ├── ce_loss_token: 5.4747\n",
            "│   ├── perplexity_char: 3.2738\n",
            "│   └── perplexity_token: 238.5874\n",
            "└── VAL:\n",
            "    ├── ce_loss_char: 1.1819\n",
            "    ├── ce_loss_token: 5.4535\n",
            "    ├── perplexity_char: 3.2606\n",
            "    └── perplexity_token: 233.5810\n",
            "└── TRAINING:\n",
            "    └── learning_rate: 0.000097\n"
          ]
        },
        {
          "name": "stderr",
          "output_type": "stream",
          "text": [
            "[Training LM]:   0%|          | 0/261 [00:00<?, ?it/s]/root/autodl-tmp/IDL-HW4/hw4lib/trainers/lm_trainer.py:122: FutureWarning: `torch.cuda.amp.GradScaler(args...)` is deprecated. Please use `torch.amp.GradScaler('cuda', args...)` instead.\n",
            "  self.scaler = torch.cuda.amp.GradScaler()\n",
            "                                                                                                                               \r"
          ]
        },
        {
          "name": "stdout",
          "output_type": "stream",
          "text": [
            "Generating with greedy search...\n",
            "\n",
            "📊 Metrics (Epoch 44):\n",
            "├── TRAIN:\n",
            "│   ├── ce_loss_char: 1.1800\n",
            "│   ├── ce_loss_token: 5.4474\n",
            "│   ├── perplexity_char: 3.2545\n",
            "│   └── perplexity_token: 232.1530\n",
            "└── VAL:\n",
            "    ├── ce_loss_char: 1.1811\n",
            "    ├── ce_loss_token: 5.4497\n",
            "    ├── perplexity_char: 3.2579\n",
            "    └── perplexity_token: 232.6857\n",
            "└── TRAINING:\n",
            "    └── learning_rate: 0.000086\n"
          ]
        },
        {
          "name": "stderr",
          "output_type": "stream",
          "text": [
            "[Training LM]:   0%|          | 0/261 [00:00<?, ?it/s]/root/autodl-tmp/IDL-HW4/hw4lib/trainers/lm_trainer.py:122: FutureWarning: `torch.cuda.amp.GradScaler(args...)` is deprecated. Please use `torch.amp.GradScaler('cuda', args...)` instead.\n",
            "  self.scaler = torch.cuda.amp.GradScaler()\n",
            "                                                                                                                               \r"
          ]
        },
        {
          "name": "stdout",
          "output_type": "stream",
          "text": [
            "Generating with greedy search...\n",
            "\n",
            "📊 Metrics (Epoch 45):\n",
            "├── TRAIN:\n",
            "│   ├── ce_loss_char: 1.1780\n",
            "│   ├── ce_loss_token: 5.4382\n",
            "│   ├── perplexity_char: 3.2480\n",
            "│   └── perplexity_token: 230.0170\n",
            "└── VAL:\n",
            "    ├── ce_loss_char: 1.1797\n",
            "    ├── ce_loss_token: 5.4433\n",
            "    ├── perplexity_char: 3.2534\n",
            "    └── perplexity_token: 231.1964\n",
            "└── TRAINING:\n",
            "    └── learning_rate: 0.000076\n"
          ]
        },
        {
          "name": "stderr",
          "output_type": "stream",
          "text": [
            "[Training LM]:   0%|          | 0/261 [00:00<?, ?it/s]/root/autodl-tmp/IDL-HW4/hw4lib/trainers/lm_trainer.py:122: FutureWarning: `torch.cuda.amp.GradScaler(args...)` is deprecated. Please use `torch.amp.GradScaler('cuda', args...)` instead.\n",
            "  self.scaler = torch.cuda.amp.GradScaler()\n",
            "                                                                                                                               \r"
          ]
        },
        {
          "name": "stdout",
          "output_type": "stream",
          "text": [
            "Generating with greedy search...\n",
            "\n",
            "📊 Metrics (Epoch 46):\n",
            "├── TRAIN:\n",
            "│   ├── ce_loss_char: 1.1787\n",
            "│   ├── ce_loss_token: 5.4414\n",
            "│   ├── perplexity_char: 3.2502\n",
            "│   └── perplexity_token: 230.7543\n",
            "└── VAL:\n",
            "    ├── ce_loss_char: 1.1780\n",
            "    ├── ce_loss_token: 5.4355\n",
            "    ├── perplexity_char: 3.2479\n",
            "    └── perplexity_token: 229.4159\n",
            "└── TRAINING:\n",
            "    └── learning_rate: 0.000066\n"
          ]
        },
        {
          "name": "stderr",
          "output_type": "stream",
          "text": [
            "[Training LM]:   0%|          | 0/261 [00:00<?, ?it/s]/root/autodl-tmp/IDL-HW4/hw4lib/trainers/lm_trainer.py:122: FutureWarning: `torch.cuda.amp.GradScaler(args...)` is deprecated. Please use `torch.amp.GradScaler('cuda', args...)` instead.\n",
            "  self.scaler = torch.cuda.amp.GradScaler()\n",
            "                                                                                                                               \r"
          ]
        },
        {
          "name": "stdout",
          "output_type": "stream",
          "text": [
            "Generating with greedy search...\n",
            "\n",
            "📊 Metrics (Epoch 47):\n",
            "├── TRAIN:\n",
            "│   ├── ce_loss_char: 1.1792\n",
            "│   ├── ce_loss_token: 5.4433\n",
            "│   ├── perplexity_char: 3.2516\n",
            "│   └── perplexity_token: 231.2100\n",
            "└── VAL:\n",
            "    ├── ce_loss_char: 1.1783\n",
            "    ├── ce_loss_token: 5.4370\n",
            "    ├── perplexity_char: 3.2490\n",
            "    └── perplexity_token: 229.7493\n",
            "└── TRAINING:\n",
            "    └── learning_rate: 0.000056\n"
          ]
        },
        {
          "name": "stderr",
          "output_type": "stream",
          "text": [
            "[Training LM]:   0%|          | 0/261 [00:00<?, ?it/s]/root/autodl-tmp/IDL-HW4/hw4lib/trainers/lm_trainer.py:122: FutureWarning: `torch.cuda.amp.GradScaler(args...)` is deprecated. Please use `torch.amp.GradScaler('cuda', args...)` instead.\n",
            "  self.scaler = torch.cuda.amp.GradScaler()\n",
            "                                                                                                                               \r"
          ]
        },
        {
          "name": "stdout",
          "output_type": "stream",
          "text": [
            "Generating with greedy search...\n",
            "\n",
            "📊 Metrics (Epoch 48):\n",
            "├── TRAIN:\n",
            "│   ├── ce_loss_char: 1.1756\n",
            "│   ├── ce_loss_token: 5.4267\n",
            "│   ├── perplexity_char: 3.2400\n",
            "│   └── perplexity_token: 227.4054\n",
            "└── VAL:\n",
            "    ├── ce_loss_char: 1.1772\n",
            "    ├── ce_loss_token: 5.4319\n",
            "    ├── perplexity_char: 3.2454\n",
            "    └── perplexity_token: 228.5725\n",
            "└── TRAINING:\n",
            "    └── learning_rate: 0.000048\n"
          ]
        },
        {
          "name": "stderr",
          "output_type": "stream",
          "text": [
            "[Training LM]:   0%|          | 0/261 [00:00<?, ?it/s]/root/autodl-tmp/IDL-HW4/hw4lib/trainers/lm_trainer.py:122: FutureWarning: `torch.cuda.amp.GradScaler(args...)` is deprecated. Please use `torch.amp.GradScaler('cuda', args...)` instead.\n",
            "  self.scaler = torch.cuda.amp.GradScaler()\n",
            "                                                                                                                               \r"
          ]
        },
        {
          "name": "stdout",
          "output_type": "stream",
          "text": [
            "Generating with greedy search...\n",
            "\n",
            "📊 Metrics (Epoch 49):\n",
            "├── TRAIN:\n",
            "│   ├── ce_loss_char: 1.1766\n",
            "│   ├── ce_loss_token: 5.4317\n",
            "│   ├── perplexity_char: 3.2434\n",
            "│   └── perplexity_token: 228.5333\n",
            "└── VAL:\n",
            "    ├── ce_loss_char: 1.1774\n",
            "    ├── ce_loss_token: 5.4325\n",
            "    ├── perplexity_char: 3.2458\n",
            "    └── perplexity_token: 228.7150\n",
            "└── TRAINING:\n",
            "    └── learning_rate: 0.000040\n"
          ]
        },
        {
          "name": "stderr",
          "output_type": "stream",
          "text": [
            "[Training LM]:   0%|          | 0/261 [00:00<?, ?it/s]/root/autodl-tmp/IDL-HW4/hw4lib/trainers/lm_trainer.py:122: FutureWarning: `torch.cuda.amp.GradScaler(args...)` is deprecated. Please use `torch.amp.GradScaler('cuda', args...)` instead.\n",
            "  self.scaler = torch.cuda.amp.GradScaler()\n",
            "                                                                                                                               \r"
          ]
        },
        {
          "name": "stdout",
          "output_type": "stream",
          "text": [
            "Generating with greedy search...\n",
            "\n",
            "📊 Metrics (Epoch 50):\n",
            "├── TRAIN:\n",
            "│   ├── ce_loss_char: 1.1740\n",
            "│   ├── ce_loss_token: 5.4194\n",
            "│   ├── perplexity_char: 3.2348\n",
            "│   └── perplexity_token: 225.7413\n",
            "└── VAL:\n",
            "    ├── ce_loss_char: 1.1765\n",
            "    ├── ce_loss_token: 5.4287\n",
            "    ├── perplexity_char: 3.2431\n",
            "    └── perplexity_token: 227.8559\n",
            "└── TRAINING:\n",
            "    └── learning_rate: 0.000032\n"
          ]
        },
        {
          "name": "stderr",
          "output_type": "stream",
          "text": [
            "[Training LM]:   0%|          | 0/261 [00:00<?, ?it/s]/root/autodl-tmp/IDL-HW4/hw4lib/trainers/lm_trainer.py:122: FutureWarning: `torch.cuda.amp.GradScaler(args...)` is deprecated. Please use `torch.amp.GradScaler('cuda', args...)` instead.\n",
            "  self.scaler = torch.cuda.amp.GradScaler()\n",
            "                                                                                                                               \r"
          ]
        },
        {
          "name": "stdout",
          "output_type": "stream",
          "text": [
            "Generating with greedy search...\n",
            "\n",
            "📊 Metrics (Epoch 51):\n",
            "├── TRAIN:\n",
            "│   ├── ce_loss_char: 1.1786\n",
            "│   ├── ce_loss_token: 5.4406\n",
            "│   ├── perplexity_char: 3.2497\n",
            "│   └── perplexity_token: 230.5709\n",
            "└── VAL:\n",
            "    ├── ce_loss_char: 1.1758\n",
            "    ├── ce_loss_token: 5.4253\n",
            "    ├── perplexity_char: 3.2408\n",
            "    └── perplexity_token: 227.0886\n",
            "└── TRAINING:\n",
            "    └── learning_rate: 0.000026\n"
          ]
        },
        {
          "name": "stderr",
          "output_type": "stream",
          "text": [
            "[Training LM]:   0%|          | 0/261 [00:00<?, ?it/s]/root/autodl-tmp/IDL-HW4/hw4lib/trainers/lm_trainer.py:122: FutureWarning: `torch.cuda.amp.GradScaler(args...)` is deprecated. Please use `torch.amp.GradScaler('cuda', args...)` instead.\n",
            "  self.scaler = torch.cuda.amp.GradScaler()\n",
            "                                                                                                                               \r"
          ]
        },
        {
          "name": "stdout",
          "output_type": "stream",
          "text": [
            "Generating with greedy search...\n",
            "\n",
            "📊 Metrics (Epoch 52):\n",
            "├── TRAIN:\n",
            "│   ├── ce_loss_char: 1.1769\n",
            "│   ├── ce_loss_token: 5.4329\n",
            "│   ├── perplexity_char: 3.2443\n",
            "│   └── perplexity_token: 228.8039\n",
            "└── VAL:\n",
            "    ├── ce_loss_char: 1.1761\n",
            "    ├── ce_loss_token: 5.4269\n",
            "    ├── perplexity_char: 3.2419\n",
            "    └── perplexity_token: 227.4381\n",
            "└── TRAINING:\n",
            "    └── learning_rate: 0.000020\n"
          ]
        },
        {
          "name": "stderr",
          "output_type": "stream",
          "text": [
            "[Training LM]:   0%|          | 0/261 [00:00<?, ?it/s]/root/autodl-tmp/IDL-HW4/hw4lib/trainers/lm_trainer.py:122: FutureWarning: `torch.cuda.amp.GradScaler(args...)` is deprecated. Please use `torch.amp.GradScaler('cuda', args...)` instead.\n",
            "  self.scaler = torch.cuda.amp.GradScaler()\n",
            "                                                                                                                               \r"
          ]
        },
        {
          "name": "stdout",
          "output_type": "stream",
          "text": [
            "Generating with greedy search...\n",
            "\n",
            "📊 Metrics (Epoch 53):\n",
            "├── TRAIN:\n",
            "│   ├── ce_loss_char: 1.1745\n",
            "│   ├── ce_loss_token: 5.4220\n",
            "│   ├── perplexity_char: 3.2366\n",
            "│   └── perplexity_token: 226.3305\n",
            "└── VAL:\n",
            "    ├── ce_loss_char: 1.1757\n",
            "    ├── ce_loss_token: 5.4250\n",
            "    ├── perplexity_char: 3.2405\n",
            "    └── perplexity_token: 227.0142\n",
            "└── TRAINING:\n",
            "    └── learning_rate: 0.000015\n"
          ]
        },
        {
          "name": "stderr",
          "output_type": "stream",
          "text": [
            "[Training LM]:   0%|          | 0/261 [00:00<?, ?it/s]/root/autodl-tmp/IDL-HW4/hw4lib/trainers/lm_trainer.py:122: FutureWarning: `torch.cuda.amp.GradScaler(args...)` is deprecated. Please use `torch.amp.GradScaler('cuda', args...)` instead.\n",
            "  self.scaler = torch.cuda.amp.GradScaler()\n",
            "                                                                                                                               \r"
          ]
        },
        {
          "name": "stdout",
          "output_type": "stream",
          "text": [
            "Generating with greedy search...\n",
            "\n",
            "📊 Metrics (Epoch 54):\n",
            "├── TRAIN:\n",
            "│   ├── ce_loss_char: 1.1758\n",
            "│   ├── ce_loss_token: 5.4278\n",
            "│   ├── perplexity_char: 3.2407\n",
            "│   └── perplexity_token: 227.6507\n",
            "└── VAL:\n",
            "    ├── ce_loss_char: 1.1760\n",
            "    ├── ce_loss_token: 5.4262\n",
            "    ├── perplexity_char: 3.2414\n",
            "    └── perplexity_token: 227.2907\n",
            "└── TRAINING:\n",
            "    └── learning_rate: 0.000010\n"
          ]
        },
        {
          "name": "stderr",
          "output_type": "stream",
          "text": [
            "[Training LM]:   0%|          | 0/261 [00:00<?, ?it/s]/root/autodl-tmp/IDL-HW4/hw4lib/trainers/lm_trainer.py:122: FutureWarning: `torch.cuda.amp.GradScaler(args...)` is deprecated. Please use `torch.amp.GradScaler('cuda', args...)` instead.\n",
            "  self.scaler = torch.cuda.amp.GradScaler()\n",
            "                                                                                                                               \r"
          ]
        },
        {
          "name": "stdout",
          "output_type": "stream",
          "text": [
            "Generating with greedy search...\n",
            "\n",
            "📊 Metrics (Epoch 55):\n",
            "├── TRAIN:\n",
            "│   ├── ce_loss_char: 1.1759\n",
            "│   ├── ce_loss_token: 5.4284\n",
            "│   ├── perplexity_char: 3.2411\n",
            "│   └── perplexity_token: 227.7829\n",
            "└── VAL:\n",
            "    ├── ce_loss_char: 1.1758\n",
            "    ├── ce_loss_token: 5.4251\n",
            "    ├── perplexity_char: 3.2406\n",
            "    └── perplexity_token: 227.0403\n",
            "└── TRAINING:\n",
            "    └── learning_rate: 0.000007\n"
          ]
        },
        {
          "name": "stderr",
          "output_type": "stream",
          "text": [
            "[Training LM]:   0%|          | 0/261 [00:00<?, ?it/s]/root/autodl-tmp/IDL-HW4/hw4lib/trainers/lm_trainer.py:122: FutureWarning: `torch.cuda.amp.GradScaler(args...)` is deprecated. Please use `torch.amp.GradScaler('cuda', args...)` instead.\n",
            "  self.scaler = torch.cuda.amp.GradScaler()\n",
            "                                                                                                                               \r"
          ]
        },
        {
          "name": "stdout",
          "output_type": "stream",
          "text": [
            "Generating with greedy search...\n",
            "\n",
            "📊 Metrics (Epoch 56):\n",
            "├── TRAIN:\n",
            "│   ├── ce_loss_char: 1.1726\n",
            "│   ├── ce_loss_token: 5.4129\n",
            "│   ├── perplexity_char: 3.2303\n",
            "│   └── perplexity_token: 224.2877\n",
            "└── VAL:\n",
            "    ├── ce_loss_char: 1.1753\n",
            "    ├── ce_loss_token: 5.4231\n",
            "    ├── perplexity_char: 3.2392\n",
            "    └── perplexity_token: 226.5825\n",
            "└── TRAINING:\n",
            "    └── learning_rate: 0.000004\n"
          ]
        },
        {
          "name": "stderr",
          "output_type": "stream",
          "text": [
            "[Training LM]:   0%|          | 0/261 [00:00<?, ?it/s]/root/autodl-tmp/IDL-HW4/hw4lib/trainers/lm_trainer.py:122: FutureWarning: `torch.cuda.amp.GradScaler(args...)` is deprecated. Please use `torch.amp.GradScaler('cuda', args...)` instead.\n",
            "  self.scaler = torch.cuda.amp.GradScaler()\n",
            "                                                                                                                               \r"
          ]
        },
        {
          "name": "stdout",
          "output_type": "stream",
          "text": [
            "Generating with greedy search...\n",
            "\n",
            "📊 Metrics (Epoch 57):\n",
            "├── TRAIN:\n",
            "│   ├── ce_loss_char: 1.1707\n",
            "│   ├── ce_loss_token: 5.4041\n",
            "│   ├── perplexity_char: 3.2241\n",
            "│   └── perplexity_token: 222.3131\n",
            "└── VAL:\n",
            "    ├── ce_loss_char: 1.1758\n",
            "    ├── ce_loss_token: 5.4251\n",
            "    ├── perplexity_char: 3.2406\n",
            "    └── perplexity_token: 227.0390\n",
            "└── TRAINING:\n",
            "    └── learning_rate: 0.000002\n"
          ]
        },
        {
          "name": "stderr",
          "output_type": "stream",
          "text": [
            "[Training LM]:   0%|          | 0/261 [00:00<?, ?it/s]/root/autodl-tmp/IDL-HW4/hw4lib/trainers/lm_trainer.py:122: FutureWarning: `torch.cuda.amp.GradScaler(args...)` is deprecated. Please use `torch.amp.GradScaler('cuda', args...)` instead.\n",
            "  self.scaler = torch.cuda.amp.GradScaler()\n",
            "                                                                                                                               \r"
          ]
        },
        {
          "name": "stdout",
          "output_type": "stream",
          "text": [
            "Generating with greedy search...\n",
            "\n",
            "📊 Metrics (Epoch 58):\n",
            "├── TRAIN:\n",
            "│   ├── ce_loss_char: 1.1714\n",
            "│   ├── ce_loss_token: 5.4074\n",
            "│   ├── perplexity_char: 3.2264\n",
            "│   └── perplexity_token: 223.0489\n",
            "└── VAL:\n",
            "    ├── ce_loss_char: 1.1755\n",
            "    ├── ce_loss_token: 5.4241\n",
            "    ├── perplexity_char: 3.2399\n",
            "    └── perplexity_token: 226.7995\n",
            "└── TRAINING:\n",
            "    └── learning_rate: 0.000000\n"
          ]
        },
        {
          "name": "stderr",
          "output_type": "stream",
          "text": [
            "[Training LM]:   0%|          | 0/261 [00:00<?, ?it/s]/root/autodl-tmp/IDL-HW4/hw4lib/trainers/lm_trainer.py:122: FutureWarning: `torch.cuda.amp.GradScaler(args...)` is deprecated. Please use `torch.amp.GradScaler('cuda', args...)` instead.\n",
            "  self.scaler = torch.cuda.amp.GradScaler()\n",
            "                                                                                                                               \r"
          ]
        },
        {
          "name": "stdout",
          "output_type": "stream",
          "text": [
            "Generating with greedy search...\n",
            "\n",
            "📊 Metrics (Epoch 59):\n",
            "├── TRAIN:\n",
            "│   ├── ce_loss_char: 1.1725\n",
            "│   ├── ce_loss_token: 5.4126\n",
            "│   ├── perplexity_char: 3.2300\n",
            "│   └── perplexity_token: 224.2109\n",
            "└── VAL:\n",
            "    ├── ce_loss_char: 1.1755\n",
            "    ├── ce_loss_token: 5.4241\n",
            "    ├── perplexity_char: 3.2399\n",
            "    └── perplexity_token: 226.8112\n",
            "└── TRAINING:\n",
            "    └── learning_rate: 0.000000\n"
          ]
        }
      ],
      "source": [
        "trainer.train(train_loader, val_loader, epochs=config['training']['epochs'])"
      ]
    },
    {
      "cell_type": "markdown",
      "metadata": {
        "id": "j55r9gK_7Q68"
      },
      "source": [
        "# Evaluate\n"
      ]
    },
    {
      "cell_type": "code",
      "execution_count": 18,
      "metadata": {
        "id": "72D0yzHr7Q68"
      },
      "outputs": [
        {
          "name": "stderr",
          "output_type": "stream",
          "text": [
            "                                                                                                               \r"
          ]
        },
        {
          "name": "stdout",
          "output_type": "stream",
          "text": [
            "\n",
            "📊 Metrics (Epoch 60):\n",
            "└── TEST:\n",
            "    ├── ce_loss_char: 1.1753\n",
            "    ├── ce_loss_token: 5.4174\n",
            "    ├── perplexity_char: 3.2391\n",
            "    └── perplexity_token: 225.3022\n",
            "└── TRAINING:\n",
            "    └── learning_rate: 0.000000\n",
            "Generating with greedy search...\n",
            "Generating with beam search...\n",
            "Could not generate results for beam: \n",
            "Generating with sampling...\n",
            "Could not generate results for sample: \n"
          ]
        },
        {
          "data": {
            "text/html": [],
            "text/plain": [
              "<IPython.core.display.HTML object>"
            ]
          },
          "metadata": {},
          "output_type": "display_data"
        },
        {
          "data": {
            "text/html": [
              "<br>    <style><br>        .wandb-row {<br>            display: flex;<br>            flex-direction: row;<br>            flex-wrap: wrap;<br>            justify-content: flex-start;<br>            width: 100%;<br>        }<br>        .wandb-col {<br>            display: flex;<br>            flex-direction: column;<br>            flex-basis: 100%;<br>            flex: 1;<br>            padding: 10px;<br>        }<br>    </style><br><div class=\"wandb-row\"><div class=\"wandb-col\"><h3>Run history:</h3><br/><table class=\"wandb\"><tr><td>learning_rate</td><td>▃▅▇███████▇▇▇▇▇▆▆▆▆▆▅▄▄▄▄▃▃▂▂▂▂▁▁▁▁▁▁▁▁▁</td></tr><tr><td>test/ce_loss_char</td><td>▁</td></tr><tr><td>test/ce_loss_token</td><td>▁</td></tr><tr><td>test/perplexity_char</td><td>▁</td></tr><tr><td>test/perplexity_token</td><td>▁</td></tr><tr><td>train/ce_loss_char</td><td>█▇▇▆▅▅▄▃▃▃▃▃▂▃▂▂▂▂▂▂▂▂▂▁▁▁▁▁▁▁▁▁▁▁▁▁▁▁▁▁</td></tr><tr><td>train/ce_loss_token</td><td>██▇▆▅▄▄▄▃▃▃▃▂▂▂▂▂▂▂▂▂▁▁▁▁▁▁▁▁▁▁▁▁▁▁▁▁▁▁▁</td></tr><tr><td>train/perplexity_char</td><td>██▇▆▅▅▄▄▄▃▃▃▂▃▂▂▂▂▂▂▂▂▂▂▂▁▁▁▁▁▁▁▁▁▁▁▁▁▁▁</td></tr><tr><td>train/perplexity_token</td><td>█▆▆▄▄▃▃▂▂▂▂▁▁▁▁▁▁▁▁▁▁▁▁▁▁▁▁▁▁▁▁▁▁▁▁▁▁▁▁▁</td></tr><tr><td>val/ce_loss_char</td><td>██▇▆▅▄▄▃▃▃▃▂▂▂▂▂▂▂▂▂▁▁▁▁▁▁▁▁▁▁▁▁▁▁▁▁▁▁▁▁</td></tr><tr><td>val/ce_loss_token</td><td>█▇▆▅▅▄▄▄▃▃▃▂▂▂▂▂▂▂▂▂▁▁▁▁▁▁▁▁▁▁▁▁▁▁▁▁▁▁▁▁</td></tr><tr><td>val/perplexity_char</td><td>█▇▆▅▅▄▃▃▃▃▃▂▂▂▂▂▂▂▂▁▁▁▁▁▁▁▁▁▁▁▁▁▁▁▁▁▁▁▁▁</td></tr><tr><td>val/perplexity_token</td><td>█▆▅▄▄▃▂▂▂▂▂▂▂▁▁▁▁▁▁▁▁▁▁▁▁▁▁▁▁▁▁▁▁▁▁▁▁▁▁▁</td></tr></table><br/></div><div class=\"wandb-col\"><h3>Run summary:</h3><br/><table class=\"wandb\"><tr><td>learning_rate</td><td>0.0</td></tr><tr><td>test/ce_loss_char</td><td>1.17529</td></tr><tr><td>test/ce_loss_token</td><td>5.41744</td></tr><tr><td>test/perplexity_char</td><td>3.23909</td></tr><tr><td>test/perplexity_token</td><td>225.30225</td></tr><tr><td>train/ce_loss_char</td><td>1.17249</td></tr><tr><td>train/ce_loss_token</td><td>5.41259</td></tr><tr><td>train/perplexity_char</td><td>3.23004</td></tr><tr><td>train/perplexity_token</td><td>224.21091</td></tr><tr><td>val/ce_loss_char</td><td>1.17555</td></tr><tr><td>val/ce_loss_token</td><td>5.42412</td></tr><tr><td>val/perplexity_char</td><td>3.23992</td></tr><tr><td>val/perplexity_token</td><td>226.81122</td></tr></table><br/></div></div>"
            ],
            "text/plain": [
              "<IPython.core.display.HTML object>"
            ]
          },
          "metadata": {},
          "output_type": "display_data"
        },
        {
          "data": {
            "text/html": [
              " View run <strong style=\"color:#cdcd00\">lm-384/1536</strong> at: <a href='https://wandb.ai/zhulenghan8211-carnegie-mellon-university/HW4P1/runs/r7j1nnyo' target=\"_blank\">https://wandb.ai/zhulenghan8211-carnegie-mellon-university/HW4P1/runs/r7j1nnyo</a><br> View project at: <a href='https://wandb.ai/zhulenghan8211-carnegie-mellon-university/HW4P1' target=\"_blank\">https://wandb.ai/zhulenghan8211-carnegie-mellon-university/HW4P1</a><br>Synced 5 W&B file(s), 121 media file(s), 0 artifact file(s) and 63 other file(s)"
            ],
            "text/plain": [
              "<IPython.core.display.HTML object>"
            ]
          },
          "metadata": {},
          "output_type": "display_data"
        },
        {
          "data": {
            "text/html": [
              "Find logs at: <code>./wandb/run-20250413_085118-r7j1nnyo/logs</code>"
            ],
            "text/plain": [
              "<IPython.core.display.HTML object>"
            ]
          },
          "metadata": {},
          "output_type": "display_data"
        }
      ],
      "source": [
        "test_metrics, test_generation_results = trainer.evaluate(test_loader)\n",
        "# Cleanup\n",
        "trainer.cleanup()"
      ]
    },
    {
      "cell_type": "markdown",
      "metadata": {
        "id": "KHw8LJp07Q68"
      },
      "source": [
        "# Submission\n",
        "To submit your assignment, you will need to create a `handin.tar` with the following directory structure:\n",
        "\n",
        "```\n",
        "handin/\n",
        "├── mytorch/                     # Your implemented modules\n",
        "├── test_metrics.json            # Results from evaluation\n",
        "├── test_generated_results.json  # Sample text generations\n",
        "└── model_arch.txt               # Model architecture summary\n",
        "```\n",
        "\n",
        "- Simply run the cell below once you are satisfied with your current state and this will create the `handin.tar` file.\n",
        "- After running the above cell, you should see the handin.tar file in the current directory\n",
        "- Upload the `handin.tar` file to the `HW4P1` assignment on Autolab."
      ]
    },
    {
      "cell_type": "markdown",
      "metadata": {
        "id": "KVSPaoOF7Q68"
      },
      "source": [
        "# Create temporary handin directory\n",
        "if os.path.exists('handin'):\n",
        "    shutil.rmtree('handin')\n",
        "os.makedirs('handin')\n",
        "\n",
        "# Copy mytorch directory\n",
        "shutil.copytree('mytorch', 'handin/mytorch')\n",
        "\n",
        "# Save final results\n",
        "with open('handin/test_metrics.json', 'w') as f:\n",
        "    json.dump(test_metrics, f, indent=4)\n",
        "\n",
        "with open('handin/test_generated_results.json', 'w') as f:\n",
        "    json.dump(test_generation_results['greedy'], f, indent=4)\n",
        "\n",
        "# Save model architecture\n",
        "with open('handin/model_arch.txt', 'w') as f:\n",
        "    f.write(str(model_stats))\n",
        "\n",
        "# Create tar file with all exclusions handled by filter\n",
        "with tarfile.open('handin.tar', 'w') as tar:\n",
        "    def filter_files(tarinfo):\n",
        "        # Skip unwanted files\n",
        "        if any(pattern in tarinfo.name for pattern in [\n",
        "            '.DS_Store',\n",
        "            '__pycache__',\n",
        "            '.pyc'\n",
        "        ]):\n",
        "            return None\n",
        "        return tarinfo\n",
        "\n",
        "    tar.add('handin', arcname='handin', filter=filter_files)\n",
        "\n",
        "# Cleanup\n",
        "shutil.rmtree('handin')\n",
        "\n",
        "print(\"Created handin.tar successfully!\")\n",
        "\n",
        "## After running the above cell, you should see the handin.tar file in the current directory\n",
        "!ls"
      ]
    }
  ],
  "metadata": {
    "accelerator": "GPU",
    "colab": {
      "collapsed_sections": [
        "qQG51p6e7Q6x"
      ],
      "gpuType": "T4",
      "provenance": []
    },
    "kernelspec": {
      "display_name": "hw4",
      "language": "python",
      "name": "python3"
    },
    "language_info": {
      "codemirror_mode": {
        "name": "ipython",
        "version": 3
      },
      "file_extension": ".py",
      "mimetype": "text/x-python",
      "name": "python",
      "nbconvert_exporter": "python",
      "pygments_lexer": "ipython3",
      "version": "3.12.4"
    }
  },
  "nbformat": 4,
  "nbformat_minor": 0
}
